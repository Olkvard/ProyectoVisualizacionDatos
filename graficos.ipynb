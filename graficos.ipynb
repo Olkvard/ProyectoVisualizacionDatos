{
 "cells": [
  {
   "cell_type": "code",
   "execution_count": 8,
   "metadata": {},
   "outputs": [],
   "source": [
    "from dash import Dash, html, dcc, callback, Output, Input, dash_table\n",
    "import dash_bootstrap_components as dbc\n",
    "import plotly.express as px\n",
    "import pandas as pd \n",
    "import matplotlib.pyplot as plt\n",
    "from math import pi"
   ]
  },
  {
   "cell_type": "code",
   "execution_count": 11,
   "metadata": {},
   "outputs": [],
   "source": [
    "df = pd.read_excel(\"jugadores.xlsx\")\n",
    "\n",
    "df[\"porcentaje_rebotes\"] = df[\"Rebotes Ofensivos\"]/df[\"Nº Partidos jugados\"]\n",
    "df[\"porcentaje_faltas\"]  = df[\"Faltas Personales Cometidas\"]/df[\"Nº Partidos jugados\"]\n",
    "df[\"porcentaje_tapones\"] = df[\"Tapones Cometidos\"]/df[\"Nº Partidos jugados\"]"
   ]
  },
  {
   "cell_type": "code",
   "execution_count": 12,
   "metadata": {},
   "outputs": [
    {
     "data": {
      "text/html": [
       "<div>\n",
       "<style scoped>\n",
       "    .dataframe tbody tr th:only-of-type {\n",
       "        vertical-align: middle;\n",
       "    }\n",
       "\n",
       "    .dataframe tbody tr th {\n",
       "        vertical-align: top;\n",
       "    }\n",
       "\n",
       "    .dataframe thead th {\n",
       "        text-align: right;\n",
       "    }\n",
       "</style>\n",
       "<table border=\"1\" class=\"dataframe\">\n",
       "  <thead>\n",
       "    <tr style=\"text-align: right;\">\n",
       "      <th></th>\n",
       "      <th>Nombre</th>\n",
       "      <th>Nº Partidos jugados</th>\n",
       "      <th>Minutos Jugados</th>\n",
       "      <th>Puntos Totales</th>\n",
       "      <th>TCP2 anotados</th>\n",
       "      <th>TCP2 Intentados</th>\n",
       "      <th>TCP2 (%)</th>\n",
       "      <th>TCP3 anotados</th>\n",
       "      <th>TCP3 Intentados</th>\n",
       "      <th>TCP3 (%)</th>\n",
       "      <th>...</th>\n",
       "      <th>Asistencias</th>\n",
       "      <th>Recuperaciones</th>\n",
       "      <th>Pérdidas</th>\n",
       "      <th>Tapones Cometidos</th>\n",
       "      <th>Tapones Recibidos</th>\n",
       "      <th>Faltas Personales Cometidas</th>\n",
       "      <th>Faltas Personales Recibidas</th>\n",
       "      <th>porcentaje_rebotes</th>\n",
       "      <th>porcentaje_faltas</th>\n",
       "      <th>porcentaje_tapones</th>\n",
       "    </tr>\n",
       "  </thead>\n",
       "  <tbody>\n",
       "    <tr>\n",
       "      <th>0</th>\n",
       "      <td>Juan Pérez</td>\n",
       "      <td>6</td>\n",
       "      <td>138</td>\n",
       "      <td>45</td>\n",
       "      <td>15</td>\n",
       "      <td>28</td>\n",
       "      <td>0.535714</td>\n",
       "      <td>0</td>\n",
       "      <td>3</td>\n",
       "      <td>0.000000</td>\n",
       "      <td>...</td>\n",
       "      <td>7</td>\n",
       "      <td>1</td>\n",
       "      <td>13</td>\n",
       "      <td>4</td>\n",
       "      <td>1</td>\n",
       "      <td>16</td>\n",
       "      <td>13</td>\n",
       "      <td>1.833333</td>\n",
       "      <td>2.666667</td>\n",
       "      <td>0.666667</td>\n",
       "    </tr>\n",
       "    <tr>\n",
       "      <th>1</th>\n",
       "      <td>Carlos López</td>\n",
       "      <td>9</td>\n",
       "      <td>125</td>\n",
       "      <td>57</td>\n",
       "      <td>19</td>\n",
       "      <td>37</td>\n",
       "      <td>0.513514</td>\n",
       "      <td>5</td>\n",
       "      <td>14</td>\n",
       "      <td>0.357143</td>\n",
       "      <td>...</td>\n",
       "      <td>3</td>\n",
       "      <td>1</td>\n",
       "      <td>15</td>\n",
       "      <td>2</td>\n",
       "      <td>1</td>\n",
       "      <td>14</td>\n",
       "      <td>18</td>\n",
       "      <td>0.444444</td>\n",
       "      <td>1.555556</td>\n",
       "      <td>0.222222</td>\n",
       "    </tr>\n",
       "    <tr>\n",
       "      <th>2</th>\n",
       "      <td>Miguel Rodríguez</td>\n",
       "      <td>15</td>\n",
       "      <td>217</td>\n",
       "      <td>66</td>\n",
       "      <td>14</td>\n",
       "      <td>30</td>\n",
       "      <td>0.466667</td>\n",
       "      <td>12</td>\n",
       "      <td>45</td>\n",
       "      <td>0.266667</td>\n",
       "      <td>...</td>\n",
       "      <td>10</td>\n",
       "      <td>6</td>\n",
       "      <td>15</td>\n",
       "      <td>1</td>\n",
       "      <td>0</td>\n",
       "      <td>11</td>\n",
       "      <td>9</td>\n",
       "      <td>0.333333</td>\n",
       "      <td>0.733333</td>\n",
       "      <td>0.066667</td>\n",
       "    </tr>\n",
       "    <tr>\n",
       "      <th>3</th>\n",
       "      <td>David Hernández</td>\n",
       "      <td>24</td>\n",
       "      <td>274</td>\n",
       "      <td>55</td>\n",
       "      <td>15</td>\n",
       "      <td>40</td>\n",
       "      <td>0.375000</td>\n",
       "      <td>5</td>\n",
       "      <td>29</td>\n",
       "      <td>0.172414</td>\n",
       "      <td>...</td>\n",
       "      <td>12</td>\n",
       "      <td>7</td>\n",
       "      <td>18</td>\n",
       "      <td>0</td>\n",
       "      <td>3</td>\n",
       "      <td>27</td>\n",
       "      <td>13</td>\n",
       "      <td>0.333333</td>\n",
       "      <td>1.125000</td>\n",
       "      <td>0.000000</td>\n",
       "    </tr>\n",
       "    <tr>\n",
       "      <th>4</th>\n",
       "      <td>José Martínez</td>\n",
       "      <td>2</td>\n",
       "      <td>7</td>\n",
       "      <td>2</td>\n",
       "      <td>1</td>\n",
       "      <td>2</td>\n",
       "      <td>0.500000</td>\n",
       "      <td>0</td>\n",
       "      <td>0</td>\n",
       "      <td>0.000000</td>\n",
       "      <td>...</td>\n",
       "      <td>0</td>\n",
       "      <td>1</td>\n",
       "      <td>0</td>\n",
       "      <td>0</td>\n",
       "      <td>1</td>\n",
       "      <td>0</td>\n",
       "      <td>0</td>\n",
       "      <td>0.000000</td>\n",
       "      <td>0.000000</td>\n",
       "      <td>0.000000</td>\n",
       "    </tr>\n",
       "  </tbody>\n",
       "</table>\n",
       "<p>5 rows × 29 columns</p>\n",
       "</div>"
      ],
      "text/plain": [
       "             Nombre  Nº Partidos jugados  Minutos Jugados  Puntos Totales  \\\n",
       "0        Juan Pérez                    6              138              45   \n",
       "1      Carlos López                    9              125              57   \n",
       "2  Miguel Rodríguez                   15              217              66   \n",
       "3   David Hernández                   24              274              55   \n",
       "4     José Martínez                    2                7               2   \n",
       "\n",
       "   TCP2 anotados  TCP2 Intentados  TCP2 (%)  TCP3 anotados  TCP3 Intentados  \\\n",
       "0             15               28  0.535714              0                3   \n",
       "1             19               37  0.513514              5               14   \n",
       "2             14               30  0.466667             12               45   \n",
       "3             15               40  0.375000              5               29   \n",
       "4              1                2  0.500000              0                0   \n",
       "\n",
       "   TCP3 (%)  ...  Asistencias  Recuperaciones  Pérdidas  Tapones Cometidos  \\\n",
       "0  0.000000  ...            7               1        13                  4   \n",
       "1  0.357143  ...            3               1        15                  2   \n",
       "2  0.266667  ...           10               6        15                  1   \n",
       "3  0.172414  ...           12               7        18                  0   \n",
       "4  0.000000  ...            0               1         0                  0   \n",
       "\n",
       "   Tapones Recibidos  Faltas Personales Cometidas  \\\n",
       "0                  1                           16   \n",
       "1                  1                           14   \n",
       "2                  0                           11   \n",
       "3                  3                           27   \n",
       "4                  1                            0   \n",
       "\n",
       "   Faltas Personales Recibidas  porcentaje_rebotes  porcentaje_faltas  \\\n",
       "0                           13            1.833333           2.666667   \n",
       "1                           18            0.444444           1.555556   \n",
       "2                            9            0.333333           0.733333   \n",
       "3                           13            0.333333           1.125000   \n",
       "4                            0            0.000000           0.000000   \n",
       "\n",
       "   porcentaje_tapones  \n",
       "0            0.666667  \n",
       "1            0.222222  \n",
       "2            0.066667  \n",
       "3            0.000000  \n",
       "4            0.000000  \n",
       "\n",
       "[5 rows x 29 columns]"
      ]
     },
     "execution_count": 12,
     "metadata": {},
     "output_type": "execute_result"
    }
   ],
   "source": [
    "ds.head()"
   ]
  },
  {
   "cell_type": "code",
   "execution_count": 13,
   "metadata": {},
   "outputs": [],
   "source": [
    "def radarChart(player_name):\n",
    "\n",
    "    # Filtrar el dataframe por el nombre del jugador\n",
    "    player_data = ds[ds['Nombre'] == player_name]\n",
    "\n",
    "    if player_data.empty:\n",
    "        print(f\"No se encontró al jugador {player_name} en el dataset.\")\n",
    "        return\n",
    "\n",
    "    # Columnas que usaremos para el radar\n",
    "    categories = ['TCP2 (%)', 'TCP3 (%)', 'TCP1 (%)', 'porcentaje_rebotes', 'porcentaje_faltas', 'porcentaje_tapones']\n",
    "    \n",
    "    # Obtener los valores del jugador en esas categorías\n",
    "    values = player_data[categories].values.flatten().tolist()\n",
    "\n",
    "    # Cerrar el gráfico anterior si lo hay\n",
    "    plt.clf()\n",
    "\n",
    "    # Preparar los ángulos del radar\n",
    "    N = len(categories)\n",
    "    angles = [n / float(N) * 2 * pi for n in range(N)]\n",
    "    angles += angles[:1]  # Cerrar el círculo\n",
    "\n",
    "    values += values[:1]  # Cerrar el gráfico\n",
    "\n",
    "    # Inicializar el gráfico\n",
    "    fig, ax = plt.subplots(figsize=(6, 6), subplot_kw=dict(polar=True))\n",
    "\n",
    "    # Dibujar el gráfico de radar\n",
    "    ax.fill(angles, values, color='blue', alpha=0.25)\n",
    "    ax.plot(angles, values, color='blue', linewidth=2)\n",
    "\n",
    "    # Ajustes de las categorías y etiquetas\n",
    "    ax.set_xticks(angles[:-1])\n",
    "    ax.set_xticklabels(categories)\n",
    "\n",
    "    # Añadir título\n",
    "    plt.title(f'Estadísticas de {player_name}', size=15, color='blue', y=1.1)\n",
    "    \n",
    "    return plt"
   ]
  },
  {
   "cell_type": "code",
   "execution_count": 14,
   "metadata": {},
   "outputs": [
    {
     "data": {
      "text/plain": [
       "<module 'matplotlib.pyplot' from 'C:\\\\Users\\\\aigut\\\\AppData\\\\Local\\\\Packages\\\\PythonSoftwareFoundation.Python.3.11_qbz5n2kfra8p0\\\\LocalCache\\\\local-packages\\\\Python311\\\\site-packages\\\\matplotlib\\\\pyplot.py'>"
      ]
     },
     "execution_count": 14,
     "metadata": {},
     "output_type": "execute_result"
    },
    {
     "data": {
      "text/plain": [
       "<Figure size 640x480 with 0 Axes>"
      ]
     },
     "metadata": {},
     "output_type": "display_data"
    },
    {
     "data": {
      "image/png": "[encoded data removed]",
      "text/plain": [
       "<Figure size 600x600 with 1 Axes>"
      ]
     },
     "metadata": {},
     "output_type": "display_data"
    }
   ],
   "source": [
    "radarChart(player_name = 'Juan Pérez')"
   ]
  },
  {
   "cell_type": "markdown",
   "metadata": {},
   "source": [
    "Grafico 1 (Evaluacion de desempeño del jugador en la temporada):\n",
    "Para esto lo que vamos hacer es un grafico de barras en al que vamos ha mostrar los mejores jugadores de la liga, en funcion del Player Efficiency Rating (PER). Estadística avanzada de baloncesto desarrollada por John Hollinger que mide la eficiencia y productividad de un jugador en base a su rendimiento en cancha. Esta métrica intenta resumir todos los aportes estadísticos de un jugador en un solo número.\n",
    "\n",
    "Debido a los datos de los que disponemos lo que haremos sera una version simplificada de este calculo ya que no disponemos de datos de los equipos, ya solo temos informacion de los equipos.\n",
    "\n",
    "Interpretación del PER\n",
    "* 15: Es el promedio de la liga.\n",
    "* 20 o más: Se considera un jugador de alto rendimiento.\n",
    "* 25 o más: Un jugador con un rendimiento excepcional.\n",
    "* 30 o más: Niveles de rendimiento de los mejores jugadores históricos."
   ]
  },
  {
   "cell_type": "markdown",
   "metadata": {},
   "source": []
  },
  {
   "cell_type": "code",
   "execution_count": 17,
   "metadata": {},
   "outputs": [],
   "source": [
    "df['PER Aproximado'] = (\n",
    "    (df[\"Puntos Totales\"] + df[\"Rebotes Totales\"] + df[\"Asistencias\"] + df[\"Recuperaciones\"]) -\n",
    "    ((df[\"Tiros de campo Intentados\"] - df[\"Tiros de campo Anotados\"]) +\n",
    "     (df[\"Tiros libres Intentados\"] - df[\"Tiros Libres Anotados\"]) +\n",
    "     df[\"Pérdidas\"])\n",
    ") / df[\"Minutos Jugados\"]"
   ]
  },
  {
   "cell_type": "code",
   "execution_count": 18,
   "metadata": {},
   "outputs": [
    {
     "data": {
      "application/vnd.plotly.v1+json": {
       "config": {
        "plotlyServerURL": "https://plot.ly"
       },
       "data": [
        {
         "alignmentgroup": "True",
         "hovertemplate": "Jugador=%{x}<br>PER Aproximado=%{marker.color}<extra></extra>",
         "legendgroup": "",
         "marker": {
          "color": [
           0.35507246376811596,
           0.312,
           0.22119815668202766,
           0.10948905109489052,
           0.2857142857142857,
           0.09090909090909091,
           0.3091286307053942,
           0.4497354497354497,
           0.3655913978494624,
           0.17142857142857143,
           0.24449877750611246,
           0.21608040201005024,
           0.13043478260869565,
           0.04,
           0.2066115702479339,
           0.19753086419753085,
           0.2647058823529412,
           0.39732142857142855,
           0.40117416829745595,
           0.27647058823529413,
           0.203579418344519,
           0.4985507246376812,
           0.19186046511627908,
           0.3358208955223881,
           0.08333333333333333,
           -0.23076923076923078,
           0.0873015873015873,
           0.376271186440678,
           0.4793388429752066,
           0.47036328871892924,
           0.1891891891891892,
           0.29381443298969073,
           0.48246674727932287,
           0.390625,
           0.16129032258064516,
           2,
           0.125,
           0.27631578947368424,
           0.37392795883361923,
           0.3338842975206612,
           0.12903225806451613,
           0.16666666666666666,
           0.3870967741935484,
           0.375968992248062,
           0,
           0.2655367231638418,
           0.17708333333333334,
           0.9,
           0.27956989247311825,
           0.40625,
           -0.3076923076923077,
           0.2184115523465704,
           0.4158878504672897,
           0.32061068702290074,
           0.2853333333333333,
           0.5082644628099173,
           0.35523613963039014,
           0.7293233082706767,
           0.7319034852546917,
           0.46418338108882523,
           0.26258205689277897,
           0.6658595641646489,
           0.6012793176972282,
           0.42857142857142855,
           0.36129032258064514,
           0.2982062780269058,
           0.6666666666666666,
           0.3930131004366812,
           0.5055762081784386,
           -0.07142857142857142,
           0.10869565217391304,
           0.49667774086378735,
           0.07692307692307693,
           1,
           0.39093959731543626,
           0.5,
           0.20512820512820512,
           0.15348837209302327,
           0.5166889185580774,
           0.48118811881188117,
           0.5168539325842697,
           0.3530534351145038,
           0.1623931623931624,
           0.6301939058171745,
           0.43462897526501765,
           0.1,
           0.3351749539594843,
           0.3261538461538461,
           0.03614457831325301,
           0.07142857142857142,
           0.6066763425253991,
           0.500780031201248,
           1.5,
           -0.03125,
           0.3432203389830508,
           0.311804008908686,
           0.298828125,
           0.27204030226700254,
           0.4692982456140351,
           0.5676767676767677,
           0.3581395348837209,
           0.23255813953488372,
           0.4162062615101289,
           0.20285714285714285,
           0.30344827586206896,
           0.24324324324324326,
           0.25,
           0.28018223234624146,
           0.4333843797856049,
           0.28823529411764703,
           0,
           0.3333333333333333,
           0.28846153846153844,
           0.2,
           0.28188775510204084
          ],
          "coloraxis": "coloraxis",
          "pattern": {
           "shape": ""
          }
         },
         "name": "",
         "offsetgroup": "",
         "orientation": "v",
         "showlegend": false,
         "textposition": "auto",
         "type": "bar",
         "x": [
          "Juan Pérez",
          "Carlos López",
          "Miguel Rodríguez",
          "David Hernández",
          "José Martínez",
          "Alejandro García",
          "Andrés González",
          "Daniel Sánchez",
          "Francisco Ramírez",
          "Javier Díaz",
          "Fernando Morales",
          "Luis Castillo",
          "Sergio Romero",
          "Diego Torres",
          "Manuel Cruz",
          "Antonio Ortiz",
          "Pablo Jiménez",
          "Santiago Flores",
          "Álvaro Navarro",
          "Tomás Méndez",
          "Iván Ruiz",
          "Guillermo Vázquez",
          "Rubén Fernández",
          "Adrián Mendoza",
          "Pedro Aguilar",
          "Raúl Paredes",
          "Enrique Herrera",
          "Gonzalo Castro",
          "Jaime Domínguez",
          "Mario Peña",
          "Héctor Rivas",
          "Marcos Silva",
          "Cristian Escobar",
          "Agustín Ríos",
          "Bruno Valenzuela",
          "Oscar Salinas",
          "Alberto Campos",
          "Hugo Cordero",
          "Felipe Ponce",
          "Matías Suárez",
          "Julián Blanco",
          "Sebastián Ortega",
          "Nicolás Valverde",
          "Ricardo Vega",
          "Ángel Reyes",
          "Eduardo Luna",
          "Esteban Bautista",
          "Vicente Moreno",
          "Rodrigo Lara",
          "Fabián Palacios",
          "Emiliano Pizarro",
          "Germán Salazar",
          "Kevin Nieto",
          "Alfredo Quintana",
          "Martín Robles",
          "Jesús Ferrer",
          "Samuel Arce",
          "Rafael Gutiérrez",
          "Marcos Zamora",
          "Jonathan Núñez",
          "Damián Villegas",
          "Ezequiel Galindo",
          "Bruno Santillán",
          "Joel Bustamante",
          "Gabriel Paredes",
          "Arturo Montes",
          "Joaquín Beltrán",
          "Mauricio Carrillo",
          "Matías Benítez",
          "Javier Torres",
          "Hugo Orozco",
          "Lucas Valero",
          "Omar Morales",
          "Raúl Montoya",
          "Daniel Frías",
          "Simón Vera",
          "Franco Soto",
          "Abel Galván",
          "Luis Padilla",
          "Israel Barrera",
          "Efraín Guerra",
          "Rubén Luna",
          "Adolfo Caballero",
          "Cristian Fuentes",
          "Luciano Santana",
          "Aarón Ríos",
          "Gonzalo Montero",
          "Eduardo Espinoza",
          "Antonio Vega",
          "Adrián Ruiz",
          "Juan Pablo Muñoz",
          "Rafael Navarro",
          "Jaime Molina",
          "David Ramos",
          "Andrés Castaño",
          "Jorge Lozano",
          "Nicolás Cuevas",
          "Félix Aguilera",
          "Alex Soria",
          "Santiago Miranda",
          "Diego Tapia",
          "Camilo Escamilla",
          "Álvaro Zúñiga",
          "Ángel Valencia",
          "Gonzalo Pastor",
          "Luis Figueroa",
          "Ricardo Benítez",
          "Martín Sandoval",
          "Oscar Medina",
          "Leonardo Cárdenas",
          "Jesús Ventura",
          "Ernesto Becerra",
          "Vicente Sosa",
          "Bruno Miranda",
          "Julián Méndez"
         ],
         "xaxis": "x",
         "y": [
          0.35507246376811596,
          0.312,
          0.22119815668202766,
          0.10948905109489052,
          0.2857142857142857,
          0.09090909090909091,
          0.3091286307053942,
          0.4497354497354497,
          0.3655913978494624,
          0.17142857142857143,
          0.24449877750611246,
          0.21608040201005024,
          0.13043478260869565,
          0.04,
          0.2066115702479339,
          0.19753086419753085,
          0.2647058823529412,
          0.39732142857142855,
          0.40117416829745595,
          0.27647058823529413,
          0.203579418344519,
          0.4985507246376812,
          0.19186046511627908,
          0.3358208955223881,
          0.08333333333333333,
          -0.23076923076923078,
          0.0873015873015873,
          0.376271186440678,
          0.4793388429752066,
          0.47036328871892924,
          0.1891891891891892,
          0.29381443298969073,
          0.48246674727932287,
          0.390625,
          0.16129032258064516,
          2,
          0.125,
          0.27631578947368424,
          0.37392795883361923,
          0.3338842975206612,
          0.12903225806451613,
          0.16666666666666666,
          0.3870967741935484,
          0.375968992248062,
          0,
          0.2655367231638418,
          0.17708333333333334,
          0.9,
          0.27956989247311825,
          0.40625,
          -0.3076923076923077,
          0.2184115523465704,
          0.4158878504672897,
          0.32061068702290074,
          0.2853333333333333,
          0.5082644628099173,
          0.35523613963039014,
          0.7293233082706767,
          0.7319034852546917,
          0.46418338108882523,
          0.26258205689277897,
          0.6658595641646489,
          0.6012793176972282,
          0.42857142857142855,
          0.36129032258064514,
          0.2982062780269058,
          0.6666666666666666,
          0.3930131004366812,
          0.5055762081784386,
          -0.07142857142857142,
          0.10869565217391304,
          0.49667774086378735,
          0.07692307692307693,
          1,
          0.39093959731543626,
          0.5,
          0.20512820512820512,
          0.15348837209302327,
          0.5166889185580774,
          0.48118811881188117,
          0.5168539325842697,
          0.3530534351145038,
          0.1623931623931624,
          0.6301939058171745,
          0.43462897526501765,
          0.1,
          0.3351749539594843,
          0.3261538461538461,
          0.03614457831325301,
          0.07142857142857142,
          0.6066763425253991,
          0.500780031201248,
          1.5,
          -0.03125,
          0.3432203389830508,
          0.311804008908686,
          0.298828125,
          0.27204030226700254,
          0.4692982456140351,
          0.5676767676767677,
          0.3581395348837209,
          0.23255813953488372,
          0.4162062615101289,
          0.20285714285714285,
          0.30344827586206896,
          0.24324324324324326,
          0.25,
          0.28018223234624146,
          0.4333843797856049,
          0.28823529411764703,
          0,
          0.3333333333333333,
          0.28846153846153844,
          0.2,
          0.28188775510204084
         ],
         "yaxis": "y"
        }
       ],
       "layout": {
        "barmode": "relative",
        "coloraxis": {
         "colorbar": {
          "title": {
           "text": "PER Aproximado"
          }
         },
         "colorscale": [
          [
           0,
           "rgb(247,251,255)"
          ],
          [
           0.125,
           "rgb(222,235,247)"
          ],
          [
           0.25,
           "rgb(198,219,239)"
          ],
          [
           0.375,
           "rgb(158,202,225)"
          ],
          [
           0.5,
           "rgb(107,174,214)"
          ],
          [
           0.625,
           "rgb(66,146,198)"
          ],
          [
           0.75,
           "rgb(33,113,181)"
          ],
          [
           0.875,
           "rgb(8,81,156)"
          ],
          [
           1,
           "rgb(8,48,107)"
          ]
         ]
        },
        "legend": {
         "tracegroupgap": 0
        },
        "template": {
         "data": {
          "bar": [
           {
            "error_x": {
             "color": "#2a3f5f"
            },
            "error_y": {
             "color": "#2a3f5f"
            },
            "marker": {
             "line": {
              "color": "#E5ECF6",
              "width": 0.5
             },
             "pattern": {
              "fillmode": "overlay",
              "size": 10,
              "solidity": 0.2
             }
            },
            "type": "bar"
           }
          ],
          "barpolar": [
           {
            "marker": {
             "line": {
              "color": "#E5ECF6",
              "width": 0.5
             },
             "pattern": {
              "fillmode": "overlay",
              "size": 10,
              "solidity": 0.2
             }
            },
            "type": "barpolar"
           }
          ],
          "carpet": [
           {
            "aaxis": {
             "endlinecolor": "#2a3f5f",
             "gridcolor": "white",
             "linecolor": "white",
             "minorgridcolor": "white",
             "startlinecolor": "#2a3f5f"
            },
            "baxis": {
             "endlinecolor": "#2a3f5f",
             "gridcolor": "white",
             "linecolor": "white",
             "minorgridcolor": "white",
             "startlinecolor": "#2a3f5f"
            },
            "type": "carpet"
           }
          ],
          "choropleth": [
           {
            "colorbar": {
             "outlinewidth": 0,
             "ticks": ""
            },
            "type": "choropleth"
           }
          ],
          "contour": [
           {
            "colorbar": {
             "outlinewidth": 0,
             "ticks": ""
            },
            "colorscale": [
             [
              0,
              "#0d0887"
             ],
             [
              0.1111111111111111,
              "#46039f"
             ],
             [
              0.2222222222222222,
              "#7201a8"
             ],
             [
              0.3333333333333333,
              "#9c179e"
             ],
             [
              0.4444444444444444,
              "#bd3786"
             ],
             [
              0.5555555555555556,
              "#d8576b"
             ],
             [
              0.6666666666666666,
              "#ed7953"
             ],
             [
              0.7777777777777778,
              "#fb9f3a"
             ],
             [
              0.8888888888888888,
              "#fdca26"
             ],
             [
              1,
              "#f0f921"
             ]
            ],
            "type": "contour"
           }
          ],
          "contourcarpet": [
           {
            "colorbar": {
             "outlinewidth": 0,
             "ticks": ""
            },
            "type": "contourcarpet"
           }
          ],
          "heatmap": [
           {
            "colorbar": {
             "outlinewidth": 0,
             "ticks": ""
            },
            "colorscale": [
             [
              0,
              "#0d0887"
             ],
             [
              0.1111111111111111,
              "#46039f"
             ],
             [
              0.2222222222222222,
              "#7201a8"
             ],
             [
              0.3333333333333333,
              "#9c179e"
             ],
             [
              0.4444444444444444,
              "#bd3786"
             ],
             [
              0.5555555555555556,
              "#d8576b"
             ],
             [
              0.6666666666666666,
              "#ed7953"
             ],
             [
              0.7777777777777778,
              "#fb9f3a"
             ],
             [
              0.8888888888888888,
              "#fdca26"
             ],
             [
              1,
              "#f0f921"
             ]
            ],
            "type": "heatmap"
           }
          ],
          "heatmapgl": [
           {
            "colorbar": {
             "outlinewidth": 0,
             "ticks": ""
            },
            "colorscale": [
             [
              0,
              "#0d0887"
             ],
             [
              0.1111111111111111,
              "#46039f"
             ],
             [
              0.2222222222222222,
              "#7201a8"
             ],
             [
              0.3333333333333333,
              "#9c179e"
             ],
             [
              0.4444444444444444,
              "#bd3786"
             ],
             [
              0.5555555555555556,
              "#d8576b"
             ],
             [
              0.6666666666666666,
              "#ed7953"
             ],
             [
              0.7777777777777778,
              "#fb9f3a"
             ],
             [
              0.8888888888888888,
              "#fdca26"
             ],
             [
              1,
              "#f0f921"
             ]
            ],
            "type": "heatmapgl"
           }
          ],
          "histogram": [
           {
            "marker": {
             "pattern": {
              "fillmode": "overlay",
              "size": 10,
              "solidity": 0.2
             }
            },
            "type": "histogram"
           }
          ],
          "histogram2d": [
           {
            "colorbar": {
             "outlinewidth": 0,
             "ticks": ""
            },
            "colorscale": [
             [
              0,
              "#0d0887"
             ],
             [
              0.1111111111111111,
              "#46039f"
             ],
             [
              0.2222222222222222,
              "#7201a8"
             ],
             [
              0.3333333333333333,
              "#9c179e"
             ],
             [
              0.4444444444444444,
              "#bd3786"
             ],
             [
              0.5555555555555556,
              "#d8576b"
             ],
             [
              0.6666666666666666,
              "#ed7953"
             ],
             [
              0.7777777777777778,
              "#fb9f3a"
             ],
             [
              0.8888888888888888,
              "#fdca26"
             ],
             [
              1,
              "#f0f921"
             ]
            ],
            "type": "histogram2d"
           }
          ],
          "histogram2dcontour": [
           {
            "colorbar": {
             "outlinewidth": 0,
             "ticks": ""
            },
            "colorscale": [
             [
              0,
              "#0d0887"
             ],
             [
              0.1111111111111111,
              "#46039f"
             ],
             [
              0.2222222222222222,
              "#7201a8"
             ],
             [
              0.3333333333333333,
              "#9c179e"
             ],
             [
              0.4444444444444444,
              "#bd3786"
             ],
             [
              0.5555555555555556,
              "#d8576b"
             ],
             [
              0.6666666666666666,
              "#ed7953"
             ],
             [
              0.7777777777777778,
              "#fb9f3a"
             ],
             [
              0.8888888888888888,
              "#fdca26"
             ],
             [
              1,
              "#f0f921"
             ]
            ],
            "type": "histogram2dcontour"
           }
          ],
          "mesh3d": [
           {
            "colorbar": {
             "outlinewidth": 0,
             "ticks": ""
            },
            "type": "mesh3d"
           }
          ],
          "parcoords": [
           {
            "line": {
             "colorbar": {
              "outlinewidth": 0,
              "ticks": ""
             }
            },
            "type": "parcoords"
           }
          ],
          "pie": [
           {
            "automargin": true,
            "type": "pie"
           }
          ],
          "scatter": [
           {
            "fillpattern": {
             "fillmode": "overlay",
             "size": 10,
             "solidity": 0.2
            },
            "type": "scatter"
           }
          ],
          "scatter3d": [
           {
            "line": {
             "colorbar": {
              "outlinewidth": 0,
              "ticks": ""
             }
            },
            "marker": {
             "colorbar": {
              "outlinewidth": 0,
              "ticks": ""
             }
            },
            "type": "scatter3d"
           }
          ],
          "scattercarpet": [
           {
            "marker": {
             "colorbar": {
              "outlinewidth": 0,
              "ticks": ""
             }
            },
            "type": "scattercarpet"
           }
          ],
          "scattergeo": [
           {
            "marker": {
             "colorbar": {
              "outlinewidth": 0,
              "ticks": ""
             }
            },
            "type": "scattergeo"
           }
          ],
          "scattergl": [
           {
            "marker": {
             "colorbar": {
              "outlinewidth": 0,
              "ticks": ""
             }
            },
            "type": "scattergl"
           }
          ],
          "scattermapbox": [
           {
            "marker": {
             "colorbar": {
              "outlinewidth": 0,
              "ticks": ""
             }
            },
            "type": "scattermapbox"
           }
          ],
          "scatterpolar": [
           {
            "marker": {
             "colorbar": {
              "outlinewidth": 0,
              "ticks": ""
             }
            },
            "type": "scatterpolar"
           }
          ],
          "scatterpolargl": [
           {
            "marker": {
             "colorbar": {
              "outlinewidth": 0,
              "ticks": ""
             }
            },
            "type": "scatterpolargl"
           }
          ],
          "scatterternary": [
           {
            "marker": {
             "colorbar": {
              "outlinewidth": 0,
              "ticks": ""
             }
            },
            "type": "scatterternary"
           }
          ],
          "surface": [
           {
            "colorbar": {
             "outlinewidth": 0,
             "ticks": ""
            },
            "colorscale": [
             [
              0,
              "#0d0887"
             ],
             [
              0.1111111111111111,
              "#46039f"
             ],
             [
              0.2222222222222222,
              "#7201a8"
             ],
             [
              0.3333333333333333,
              "#9c179e"
             ],
             [
              0.4444444444444444,
              "#bd3786"
             ],
             [
              0.5555555555555556,
              "#d8576b"
             ],
             [
              0.6666666666666666,
              "#ed7953"
             ],
             [
              0.7777777777777778,
              "#fb9f3a"
             ],
             [
              0.8888888888888888,
              "#fdca26"
             ],
             [
              1,
              "#f0f921"
             ]
            ],
            "type": "surface"
           }
          ],
          "table": [
           {
            "cells": {
             "fill": {
              "color": "#EBF0F8"
             },
             "line": {
              "color": "white"
             }
            },
            "header": {
             "fill": {
              "color": "#C8D4E3"
             },
             "line": {
              "color": "white"
             }
            },
            "type": "table"
           }
          ]
         },
         "layout": {
          "annotationdefaults": {
           "arrowcolor": "#2a3f5f",
           "arrowhead": 0,
           "arrowwidth": 1
          },
          "autotypenumbers": "strict",
          "coloraxis": {
           "colorbar": {
            "outlinewidth": 0,
            "ticks": ""
           }
          },
          "colorscale": {
           "diverging": [
            [
             0,
             "#8e0152"
            ],
            [
             0.1,
             "#c51b7d"
            ],
            [
             0.2,
             "#de77ae"
            ],
            [
             0.3,
             "#f1b6da"
            ],
            [
             0.4,
             "#fde0ef"
            ],
            [
             0.5,
             "#f7f7f7"
            ],
            [
             0.6,
             "#e6f5d0"
            ],
            [
             0.7,
             "#b8e186"
            ],
            [
             0.8,
             "#7fbc41"
            ],
            [
             0.9,
             "#4d9221"
            ],
            [
             1,
             "#276419"
            ]
           ],
           "sequential": [
            [
             0,
             "#0d0887"
            ],
            [
             0.1111111111111111,
             "#46039f"
            ],
            [
             0.2222222222222222,
             "#7201a8"
            ],
            [
             0.3333333333333333,
             "#9c179e"
            ],
            [
             0.4444444444444444,
             "#bd3786"
            ],
            [
             0.5555555555555556,
             "#d8576b"
            ],
            [
             0.6666666666666666,
             "#ed7953"
            ],
            [
             0.7777777777777778,
             "#fb9f3a"
            ],
            [
             0.8888888888888888,
             "#fdca26"
            ],
            [
             1,
             "#f0f921"
            ]
           ],
           "sequentialminus": [
            [
             0,
             "#0d0887"
            ],
            [
             0.1111111111111111,
             "#46039f"
            ],
            [
             0.2222222222222222,
             "#7201a8"
            ],
            [
             0.3333333333333333,
             "#9c179e"
            ],
            [
             0.4444444444444444,
             "#bd3786"
            ],
            [
             0.5555555555555556,
             "#d8576b"
            ],
            [
             0.6666666666666666,
             "#ed7953"
            ],
            [
             0.7777777777777778,
             "#fb9f3a"
            ],
            [
             0.8888888888888888,
             "#fdca26"
            ],
            [
             1,
             "#f0f921"
            ]
           ]
          },
          "colorway": [
           "#636efa",
           "#EF553B",
           "#00cc96",
           "#ab63fa",
           "#FFA15A",
           "#19d3f3",
           "#FF6692",
           "#B6E880",
           "#FF97FF",
           "#FECB52"
          ],
          "font": {
           "color": "#2a3f5f"
          },
          "geo": {
           "bgcolor": "white",
           "lakecolor": "white",
           "landcolor": "#E5ECF6",
           "showlakes": true,
           "showland": true,
           "subunitcolor": "white"
          },
          "hoverlabel": {
           "align": "left"
          },
          "hovermode": "closest",
          "mapbox": {
           "style": "light"
          },
          "paper_bgcolor": "white",
          "plot_bgcolor": "#E5ECF6",
          "polar": {
           "angularaxis": {
            "gridcolor": "white",
            "linecolor": "white",
            "ticks": ""
           },
           "bgcolor": "#E5ECF6",
           "radialaxis": {
            "gridcolor": "white",
            "linecolor": "white",
            "ticks": ""
           }
          },
          "scene": {
           "xaxis": {
            "backgroundcolor": "#E5ECF6",
            "gridcolor": "white",
            "gridwidth": 2,
            "linecolor": "white",
            "showbackground": true,
            "ticks": "",
            "zerolinecolor": "white"
           },
           "yaxis": {
            "backgroundcolor": "#E5ECF6",
            "gridcolor": "white",
            "gridwidth": 2,
            "linecolor": "white",
            "showbackground": true,
            "ticks": "",
            "zerolinecolor": "white"
           },
           "zaxis": {
            "backgroundcolor": "#E5ECF6",
            "gridcolor": "white",
            "gridwidth": 2,
            "linecolor": "white",
            "showbackground": true,
            "ticks": "",
            "zerolinecolor": "white"
           }
          },
          "shapedefaults": {
           "line": {
            "color": "#2a3f5f"
           }
          },
          "ternary": {
           "aaxis": {
            "gridcolor": "white",
            "linecolor": "white",
            "ticks": ""
           },
           "baxis": {
            "gridcolor": "white",
            "linecolor": "white",
            "ticks": ""
           },
           "bgcolor": "#E5ECF6",
           "caxis": {
            "gridcolor": "white",
            "linecolor": "white",
            "ticks": ""
           }
          },
          "title": {
           "x": 0.05
          },
          "xaxis": {
           "automargin": true,
           "gridcolor": "white",
           "linecolor": "white",
           "ticks": "",
           "title": {
            "standoff": 15
           },
           "zerolinecolor": "white",
           "zerolinewidth": 2
          },
          "yaxis": {
           "automargin": true,
           "gridcolor": "white",
           "linecolor": "white",
           "ticks": "",
           "title": {
            "standoff": 15
           },
           "zerolinecolor": "white",
           "zerolinewidth": 2
          }
         }
        },
        "title": {
         "text": "PER Aproximado de los Jugadores de Baloncesto"
        },
        "xaxis": {
         "anchor": "y",
         "domain": [
          0,
          1
         ],
         "title": {
          "text": "Jugador"
         }
        },
        "yaxis": {
         "anchor": "x",
         "domain": [
          0,
          1
         ],
         "title": {
          "text": "PER Aproximado"
         }
        }
       }
      }
     },
     "metadata": {},
     "output_type": "display_data"
    }
   ],
   "source": [
    "# Graficamos el PER aproximado\n",
    "fig = px.bar(df, x='Nombre', y='PER Aproximado', title=\"PER Aproximado de los Jugadores de Baloncesto\",\n",
    "             labels={'PER Aproximado': 'PER Aproximado', 'Nombre': 'Jugador'},\n",
    "             color='PER Aproximado', color_continuous_scale='Blues')\n",
    "\n",
    "# Mostramos el gráfico\n",
    "fig.show()"
   ]
  },
  {
   "cell_type": "code",
   "execution_count": null,
   "metadata": {},
   "outputs": [],
   "source": []
  }
 ],
 "metadata": {
  "kernelspec": {
   "display_name": "Python 3",
   "language": "python",
   "name": "python3"
  },
  "language_info": {
   "codemirror_mode": {
    "name": "ipython",
    "version": 3
   },
   "file_extension": ".py",
   "mimetype": "text/x-python",
   "name": "python",
   "nbconvert_exporter": "python",
   "pygments_lexer": "ipython3",
   "version": "3.11.9"
  }
 },
 "nbformat": 4,
 "nbformat_minor": 2
}
