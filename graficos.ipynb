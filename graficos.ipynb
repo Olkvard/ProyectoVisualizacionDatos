{
 "cells": [
  {
   "cell_type": "code",
   "execution_count": 1,
   "metadata": {},
   "outputs": [],
   "source": [
    "from dash import Dash, html, dcc, callback, Output, Input, dash_table\n",
    "import dash_bootstrap_components as dbc\n",
    "import plotly.express as px\n",
    "import pandas as pd \n",
    "import matplotlib.pyplot as plt\n",
    "from math import pi"
   ]
  },
  {
   "cell_type": "code",
   "execution_count": 2,
   "metadata": {},
   "outputs": [
    {
     "data": {
      "text/html": [
       "<div>\n",
       "<style scoped>\n",
       "    .dataframe tbody tr th:only-of-type {\n",
       "        vertical-align: middle;\n",
       "    }\n",
       "\n",
       "    .dataframe tbody tr th {\n",
       "        vertical-align: top;\n",
       "    }\n",
       "\n",
       "    .dataframe thead th {\n",
       "        text-align: right;\n",
       "    }\n",
       "</style>\n",
       "<table border=\"1\" class=\"dataframe\">\n",
       "  <thead>\n",
       "    <tr style=\"text-align: right;\">\n",
       "      <th></th>\n",
       "      <th>Nombre</th>\n",
       "      <th>Nº Partidos jugados</th>\n",
       "      <th>Minutos Jugados</th>\n",
       "      <th>Puntos Totales</th>\n",
       "      <th>TCP2 anotados</th>\n",
       "      <th>TCP2 Intentados</th>\n",
       "      <th>TCP2 (%)</th>\n",
       "      <th>TCP3 anotados</th>\n",
       "      <th>TCP3 Intentados</th>\n",
       "      <th>TCP3 (%)</th>\n",
       "      <th>...</th>\n",
       "      <th>Rebotes Totales</th>\n",
       "      <th>Asistencias</th>\n",
       "      <th>Recuperaciones</th>\n",
       "      <th>Pérdidas</th>\n",
       "      <th>Tapones Cometidos</th>\n",
       "      <th>Tapones Recibidos</th>\n",
       "      <th>Faltas Personales Cometidas</th>\n",
       "      <th>Faltas Personales Recibidas</th>\n",
       "      <th>Ataque</th>\n",
       "      <th>Defensa</th>\n",
       "    </tr>\n",
       "  </thead>\n",
       "  <tbody>\n",
       "    <tr>\n",
       "      <th>0</th>\n",
       "      <td>Juan Pérez</td>\n",
       "      <td>6</td>\n",
       "      <td>138</td>\n",
       "      <td>45</td>\n",
       "      <td>15</td>\n",
       "      <td>28</td>\n",
       "      <td>0.535714</td>\n",
       "      <td>0</td>\n",
       "      <td>3</td>\n",
       "      <td>0.000000</td>\n",
       "      <td>...</td>\n",
       "      <td>31</td>\n",
       "      <td>7</td>\n",
       "      <td>1</td>\n",
       "      <td>13</td>\n",
       "      <td>4</td>\n",
       "      <td>1</td>\n",
       "      <td>16</td>\n",
       "      <td>13</td>\n",
       "      <td>0.355072</td>\n",
       "      <td>0.159420</td>\n",
       "    </tr>\n",
       "    <tr>\n",
       "      <th>1</th>\n",
       "      <td>Carlos López</td>\n",
       "      <td>9</td>\n",
       "      <td>125</td>\n",
       "      <td>57</td>\n",
       "      <td>19</td>\n",
       "      <td>37</td>\n",
       "      <td>0.513514</td>\n",
       "      <td>5</td>\n",
       "      <td>14</td>\n",
       "      <td>0.357143</td>\n",
       "      <td>...</td>\n",
       "      <td>24</td>\n",
       "      <td>3</td>\n",
       "      <td>1</td>\n",
       "      <td>15</td>\n",
       "      <td>2</td>\n",
       "      <td>1</td>\n",
       "      <td>14</td>\n",
       "      <td>18</td>\n",
       "      <td>0.384000</td>\n",
       "      <td>0.216000</td>\n",
       "    </tr>\n",
       "    <tr>\n",
       "      <th>2</th>\n",
       "      <td>Miguel Rodríguez</td>\n",
       "      <td>15</td>\n",
       "      <td>217</td>\n",
       "      <td>66</td>\n",
       "      <td>14</td>\n",
       "      <td>30</td>\n",
       "      <td>0.466667</td>\n",
       "      <td>12</td>\n",
       "      <td>45</td>\n",
       "      <td>0.266667</td>\n",
       "      <td>...</td>\n",
       "      <td>31</td>\n",
       "      <td>10</td>\n",
       "      <td>6</td>\n",
       "      <td>15</td>\n",
       "      <td>1</td>\n",
       "      <td>0</td>\n",
       "      <td>11</td>\n",
       "      <td>9</td>\n",
       "      <td>0.304147</td>\n",
       "      <td>0.142857</td>\n",
       "    </tr>\n",
       "    <tr>\n",
       "      <th>3</th>\n",
       "      <td>David Hernández</td>\n",
       "      <td>24</td>\n",
       "      <td>274</td>\n",
       "      <td>55</td>\n",
       "      <td>15</td>\n",
       "      <td>40</td>\n",
       "      <td>0.375000</td>\n",
       "      <td>5</td>\n",
       "      <td>29</td>\n",
       "      <td>0.172414</td>\n",
       "      <td>...</td>\n",
       "      <td>24</td>\n",
       "      <td>12</td>\n",
       "      <td>7</td>\n",
       "      <td>18</td>\n",
       "      <td>0</td>\n",
       "      <td>3</td>\n",
       "      <td>27</td>\n",
       "      <td>13</td>\n",
       "      <td>0.197080</td>\n",
       "      <td>0.032847</td>\n",
       "    </tr>\n",
       "    <tr>\n",
       "      <th>4</th>\n",
       "      <td>José Martínez</td>\n",
       "      <td>2</td>\n",
       "      <td>7</td>\n",
       "      <td>2</td>\n",
       "      <td>1</td>\n",
       "      <td>2</td>\n",
       "      <td>0.500000</td>\n",
       "      <td>0</td>\n",
       "      <td>0</td>\n",
       "      <td>0.000000</td>\n",
       "      <td>...</td>\n",
       "      <td>0</td>\n",
       "      <td>0</td>\n",
       "      <td>1</td>\n",
       "      <td>0</td>\n",
       "      <td>0</td>\n",
       "      <td>1</td>\n",
       "      <td>0</td>\n",
       "      <td>0</td>\n",
       "      <td>0.142857</td>\n",
       "      <td>0.142857</td>\n",
       "    </tr>\n",
       "    <tr>\n",
       "      <th>...</th>\n",
       "      <td>...</td>\n",
       "      <td>...</td>\n",
       "      <td>...</td>\n",
       "      <td>...</td>\n",
       "      <td>...</td>\n",
       "      <td>...</td>\n",
       "      <td>...</td>\n",
       "      <td>...</td>\n",
       "      <td>...</td>\n",
       "      <td>...</td>\n",
       "      <td>...</td>\n",
       "      <td>...</td>\n",
       "      <td>...</td>\n",
       "      <td>...</td>\n",
       "      <td>...</td>\n",
       "      <td>...</td>\n",
       "      <td>...</td>\n",
       "      <td>...</td>\n",
       "      <td>...</td>\n",
       "      <td>...</td>\n",
       "      <td>...</td>\n",
       "    </tr>\n",
       "    <tr>\n",
       "      <th>110</th>\n",
       "      <td>Jesús Ventura</td>\n",
       "      <td>2</td>\n",
       "      <td>1</td>\n",
       "      <td>0</td>\n",
       "      <td>0</td>\n",
       "      <td>0</td>\n",
       "      <td>0.000000</td>\n",
       "      <td>0</td>\n",
       "      <td>0</td>\n",
       "      <td>0.000000</td>\n",
       "      <td>...</td>\n",
       "      <td>0</td>\n",
       "      <td>0</td>\n",
       "      <td>0</td>\n",
       "      <td>0</td>\n",
       "      <td>0</td>\n",
       "      <td>0</td>\n",
       "      <td>0</td>\n",
       "      <td>0</td>\n",
       "      <td>0.000000</td>\n",
       "      <td>0.000000</td>\n",
       "    </tr>\n",
       "    <tr>\n",
       "      <th>111</th>\n",
       "      <td>Ernesto Becerra</td>\n",
       "      <td>1</td>\n",
       "      <td>6</td>\n",
       "      <td>2</td>\n",
       "      <td>1</td>\n",
       "      <td>1</td>\n",
       "      <td>1.000000</td>\n",
       "      <td>0</td>\n",
       "      <td>1</td>\n",
       "      <td>0.000000</td>\n",
       "      <td>...</td>\n",
       "      <td>0</td>\n",
       "      <td>0</td>\n",
       "      <td>1</td>\n",
       "      <td>0</td>\n",
       "      <td>0</td>\n",
       "      <td>0</td>\n",
       "      <td>0</td>\n",
       "      <td>0</td>\n",
       "      <td>0.333333</td>\n",
       "      <td>0.166667</td>\n",
       "    </tr>\n",
       "    <tr>\n",
       "      <th>112</th>\n",
       "      <td>Vicente Sosa</td>\n",
       "      <td>9</td>\n",
       "      <td>104</td>\n",
       "      <td>34</td>\n",
       "      <td>14</td>\n",
       "      <td>33</td>\n",
       "      <td>0.424242</td>\n",
       "      <td>0</td>\n",
       "      <td>0</td>\n",
       "      <td>0.000000</td>\n",
       "      <td>...</td>\n",
       "      <td>26</td>\n",
       "      <td>0</td>\n",
       "      <td>1</td>\n",
       "      <td>7</td>\n",
       "      <td>1</td>\n",
       "      <td>4</td>\n",
       "      <td>12</td>\n",
       "      <td>9</td>\n",
       "      <td>0.326923</td>\n",
       "      <td>0.134615</td>\n",
       "    </tr>\n",
       "    <tr>\n",
       "      <th>113</th>\n",
       "      <td>Bruno Miranda</td>\n",
       "      <td>18</td>\n",
       "      <td>70</td>\n",
       "      <td>11</td>\n",
       "      <td>4</td>\n",
       "      <td>11</td>\n",
       "      <td>0.363636</td>\n",
       "      <td>1</td>\n",
       "      <td>3</td>\n",
       "      <td>0.333333</td>\n",
       "      <td>...</td>\n",
       "      <td>15</td>\n",
       "      <td>2</td>\n",
       "      <td>1</td>\n",
       "      <td>4</td>\n",
       "      <td>0</td>\n",
       "      <td>0</td>\n",
       "      <td>4</td>\n",
       "      <td>1</td>\n",
       "      <td>0.257143</td>\n",
       "      <td>0.057143</td>\n",
       "    </tr>\n",
       "    <tr>\n",
       "      <th>114</th>\n",
       "      <td>Julián Méndez</td>\n",
       "      <td>26</td>\n",
       "      <td>784</td>\n",
       "      <td>341</td>\n",
       "      <td>72</td>\n",
       "      <td>195</td>\n",
       "      <td>0.369231</td>\n",
       "      <td>49</td>\n",
       "      <td>164</td>\n",
       "      <td>0.298780</td>\n",
       "      <td>...</td>\n",
       "      <td>96</td>\n",
       "      <td>77</td>\n",
       "      <td>18</td>\n",
       "      <td>47</td>\n",
       "      <td>2</td>\n",
       "      <td>14</td>\n",
       "      <td>59</td>\n",
       "      <td>104</td>\n",
       "      <td>0.479592</td>\n",
       "      <td>0.181122</td>\n",
       "    </tr>\n",
       "  </tbody>\n",
       "</table>\n",
       "<p>115 rows × 28 columns</p>\n",
       "</div>"
      ],
      "text/plain": [
       "               Nombre  Nº Partidos jugados  Minutos Jugados  Puntos Totales  \\\n",
       "0          Juan Pérez                    6              138              45   \n",
       "1        Carlos López                    9              125              57   \n",
       "2    Miguel Rodríguez                   15              217              66   \n",
       "3     David Hernández                   24              274              55   \n",
       "4       José Martínez                    2                7               2   \n",
       "..                ...                  ...              ...             ...   \n",
       "110     Jesús Ventura                    2                1               0   \n",
       "111   Ernesto Becerra                    1                6               2   \n",
       "112      Vicente Sosa                    9              104              34   \n",
       "113     Bruno Miranda                   18               70              11   \n",
       "114     Julián Méndez                   26              784             341   \n",
       "\n",
       "     TCP2 anotados  TCP2 Intentados  TCP2 (%)  TCP3 anotados  TCP3 Intentados  \\\n",
       "0               15               28  0.535714              0                3   \n",
       "1               19               37  0.513514              5               14   \n",
       "2               14               30  0.466667             12               45   \n",
       "3               15               40  0.375000              5               29   \n",
       "4                1                2  0.500000              0                0   \n",
       "..             ...              ...       ...            ...              ...   \n",
       "110              0                0  0.000000              0                0   \n",
       "111              1                1  1.000000              0                1   \n",
       "112             14               33  0.424242              0                0   \n",
       "113              4               11  0.363636              1                3   \n",
       "114             72              195  0.369231             49              164   \n",
       "\n",
       "     TCP3 (%)  ...  Rebotes Totales  Asistencias  Recuperaciones  Pérdidas  \\\n",
       "0    0.000000  ...               31            7               1        13   \n",
       "1    0.357143  ...               24            3               1        15   \n",
       "2    0.266667  ...               31           10               6        15   \n",
       "3    0.172414  ...               24           12               7        18   \n",
       "4    0.000000  ...                0            0               1         0   \n",
       "..        ...  ...              ...          ...             ...       ...   \n",
       "110  0.000000  ...                0            0               0         0   \n",
       "111  0.000000  ...                0            0               1         0   \n",
       "112  0.000000  ...               26            0               1         7   \n",
       "113  0.333333  ...               15            2               1         4   \n",
       "114  0.298780  ...               96           77              18        47   \n",
       "\n",
       "     Tapones Cometidos  Tapones Recibidos  Faltas Personales Cometidas  \\\n",
       "0                    4                  1                           16   \n",
       "1                    2                  1                           14   \n",
       "2                    1                  0                           11   \n",
       "3                    0                  3                           27   \n",
       "4                    0                  1                            0   \n",
       "..                 ...                ...                          ...   \n",
       "110                  0                  0                            0   \n",
       "111                  0                  0                            0   \n",
       "112                  1                  4                           12   \n",
       "113                  0                  0                            4   \n",
       "114                  2                 14                           59   \n",
       "\n",
       "     Faltas Personales Recibidas    Ataque   Defensa  \n",
       "0                             13  0.355072  0.159420  \n",
       "1                             18  0.384000  0.216000  \n",
       "2                              9  0.304147  0.142857  \n",
       "3                             13  0.197080  0.032847  \n",
       "4                              0  0.142857  0.142857  \n",
       "..                           ...       ...       ...  \n",
       "110                            0  0.000000  0.000000  \n",
       "111                            0  0.333333  0.166667  \n",
       "112                            9  0.326923  0.134615  \n",
       "113                            1  0.257143  0.057143  \n",
       "114                          104  0.479592  0.181122  \n",
       "\n",
       "[115 rows x 28 columns]"
      ]
     },
     "execution_count": 2,
     "metadata": {},
     "output_type": "execute_result"
    }
   ],
   "source": [
    "df = pd.read_excel(\"jugadores.xlsx\")\n",
    "\n",
    "df[\"Ataque\"] = ((df[\"Puntos Totales\"]+df[\"Rebotes Ofensivos\"]+df[\"Asistencias\"])/df[\"Minutos Jugados\"])-((df[\"Tapones Recibidos\"]+df[\"Pérdidas\"])/df[\"Minutos Jugados\"])\n",
    "df[\"Defensa\"] = ((df[\"Recuperaciones\"]+df[\"Rebotes Defensivos\"]+df[\"Tapones Cometidos\"]+df[\"Faltas Personales Recibidas\"])/df[\"Minutos Jugados\"])-((df[\"Faltas Personales Cometidas\"])/df[\"Minutos Jugados\"])\n",
    "\n",
    "# Limitar los valores de \"Ataque\" y \"Defensa\" entre 0 y 1\n",
    "df[\"Ataque\"] = df[\"Ataque\"].clip(0, 1)\n",
    "df[\"Defensa\"] = df[\"Defensa\"].clip(0, 1)\n",
    "\n",
    "df"
   ]
  },
  {
   "cell_type": "code",
   "execution_count": 3,
   "metadata": {},
   "outputs": [],
   "source": [
    "import matplotlib.pyplot as plt\n",
    "from math import pi\n",
    "\n",
    "def radarChart(player_name, category_labels=None):\n",
    "    # Filtrar el dataframe por el nombre del jugador\n",
    "    player_data = df[df['Nombre'] == player_name]\n",
    "\n",
    "    if player_data.empty:\n",
    "        print(f\"No se encontró al jugador {player_name} en el dataset.\")\n",
    "        return\n",
    "\n",
    "    # Columnas que usaremos para el radar\n",
    "    categories = ['TCP2 (%)', 'TCP3 (%)', 'TCP1 (%)', 'Ataque', 'Defensa']\n",
    "    \n",
    "    # Obtener los valores del jugador en esas categorías\n",
    "    values = player_data[categories].values.flatten().tolist()\n",
    "\n",
    "    # Cerrar el gráfico anterior si lo hay\n",
    "    plt.clf()\n",
    "\n",
    "    # Preparar los ángulos del radar\n",
    "    N = len(categories)\n",
    "    angles = [n / float(N) * 2 * pi for n in range(N)]\n",
    "    angles += angles[:1]  # Cerrar el círculo\n",
    "\n",
    "    values += values[:1]  # Cerrar el gráfico\n",
    "\n",
    "    # Inicializar el gráfico\n",
    "    fig, ax = plt.subplots(figsize=(6, 6), subplot_kw=dict(polar=True))\n",
    "\n",
    "    # Dibujar el gráfico de radar\n",
    "    ax.fill(angles, values, color='blue', alpha=0.25)\n",
    "    ax.plot(angles, values, color='blue', linewidth=2)\n",
    "\n",
    "    # Ajustes de las categorías y etiquetas\n",
    "    ax.set_xticks(angles[:-1])\n",
    "    \n",
    "    # Usar etiquetas personalizadas si se proporcionan\n",
    "    if category_labels:\n",
    "        ax.set_xticklabels(category_labels)\n",
    "    else:\n",
    "        ax.set_xticklabels(categories)\n",
    "\n",
    "    # Eliminar los números del eje y\n",
    "    ax.set_yticklabels([])\n",
    "\n",
    "    # Establecer el límite del eje radial de 0 a 1\n",
    "    ax.set_ylim(0, 1)\n",
    "\n",
    "    # Añadir título\n",
    "    plt.title(f'Estadísticas de {player_name}', size=15, color='blue', y=1.1)\n",
    "    \n",
    "    return plt\n"
   ]
  },
  {
   "cell_type": "code",
   "execution_count": 4,
   "metadata": {},
   "outputs": [
    {
     "data": {
      "text/plain": [
       "<module 'matplotlib.pyplot' from 'c:\\\\Users\\\\alfonso\\\\AppData\\\\Local\\\\Programs\\\\Python\\\\Python312\\\\Lib\\\\site-packages\\\\matplotlib\\\\pyplot.py'>"
      ]
     },
     "execution_count": 4,
     "metadata": {},
     "output_type": "execute_result"
    },
    {
     "data": {
      "text/plain": [
       "<Figure size 640x480 with 0 Axes>"
      ]
     },
     "metadata": {},
     "output_type": "display_data"
    },
    {
     "data": {
      "image/png": "[encoded data removed]",
      "text/plain": [
       "<Figure size 600x600 with 1 Axes>"
      ]
     },
     "metadata": {},
     "output_type": "display_data"
    }
   ],
   "source": [
    "radarChart('Ezequiel Galindo', category_labels=['Tiros de 2', 'Tiros de 3', 'Tiros Libres', 'Ataque', 'Defensa'])"
   ]
  },
  {
   "cell_type": "markdown",
   "metadata": {},
   "source": [
    "Grafico 1 (Evaluacion de desempeño del jugador en la temporada):\n",
    "Para esto lo que vamos hacer es un grafico de barras en al que vamos ha mostrar los mejores jugadores de la liga, en funcion del Player Efficiency Rating (PER). Estadística avanzada de baloncesto desarrollada por John Hollinger que mide la eficiencia y productividad de un jugador en base a su rendimiento en cancha. Esta métrica intenta resumir todos los aportes estadísticos de un jugador en un solo número.\n",
    "\n",
    "Debido a los datos de los que disponemos lo que haremos sera una version simplificada de este calculo ya que no disponemos de datos de los equipos, ya solo temos informacion de los equipos.\n",
    "\n",
    "Interpretación del PER\n",
    "* 15: Es el promedio de la liga.\n",
    "* 20 o más: Se considera un jugador de alto rendimiento.\n",
    "* 25 o más: Un jugador con un rendimiento excepcional.\n",
    "* 30 o más: Niveles de rendimiento de los mejores jugadores históricos."
   ]
  },
  {
   "cell_type": "markdown",
   "metadata": {},
   "source": []
  },
  {
   "cell_type": "code",
   "execution_count": 5,
   "metadata": {},
   "outputs": [],
   "source": [
    "df['PER Aproximado'] = (\n",
    "    (df[\"Puntos Totales\"] + df[\"Rebotes Totales\"] + df[\"Asistencias\"] + df[\"Recuperaciones\"]) -\n",
    "    ((df[\"Tiros de campo Intentados\"] - df[\"Tiros de campo Anotados\"]) +\n",
    "     (df[\"Tiros libres Intentados\"] - df[\"Tiros Libres Anotados\"]) +\n",
    "     df[\"Pérdidas\"])\n",
    ") / df[\"Minutos Jugados\"]"
   ]
  },
  {
   "cell_type": "code",
   "execution_count": 6,
   "metadata": {},
   "outputs": [],
   "source": [
    "df['PER Aproximado'] = (df[\"TCP1 (%)\"] + df[\"TCP2 (%)\"] + df[\"TCP3 (%)\"] + df[\"Ataque\"] + df[\"Defensa\"])/5"
   ]
  },
  {
   "cell_type": "code",
   "execution_count": 7,
   "metadata": {},
   "outputs": [
    {
     "data": {
      "application/vnd.plotly.v1+json": {
       "config": {
        "plotlyServerURL": "https://plot.ly"
       },
       "data": [
        {
         "alignmentgroup": "True",
         "hovertemplate": "Jugador=%{x}<br>PER Aproximado=%{marker.color}<extra></extra>",
         "legendgroup": "",
         "marker": {
          "color": [
           0.3528985507246377,
           0.39413127413127413,
           0.36940092165898614,
           0.3372863418987255,
           0.1571428571428571,
           0.09090909090909091,
           0.40714774629153644,
           0.4182696592825689,
           0.31219758064516123,
           0.27142857142857146,
           0.15683016482876772,
           0.3651075414176635,
           0.21166321601104204,
           0.14060606060606062,
           0.3659743366681166,
           0.24854497354497354,
           0.369969040247678,
           0.4499474789915966,
           0.4582599088006442,
           0.3492419998302351,
           0.3948552482746559,
           0.4293058790545203,
           0.2869006866126889,
           0.4025042692884634,
           0.2038095238095238,
           0,
           0.3829365079365079,
           0.4099854171547288,
           0.397462974735702,
           0.44276147582278336,
           0.2916344916344916,
           0.4490075160889238,
           0.45582657241908536,
           0.29963235294117646,
           0.3033504667375635,
           0.4,
           0.290625,
           0.38202716937270714,
           0.429677750882124,
           0.4138019224658275,
           0.4090322580645161,
           0.2666666666666667,
           0.34423475998869846,
           0.3355667588225728,
           0.02222222222222222,
           0.41325426202690957,
           0.32467171717171717,
           0.31333333333333335,
           0.30537634408602155,
           0.45524891774891774,
           0,
           0.33251608783725434,
           0.4256117794286019,
           0.3064742366412214,
           0.3536353077816492,
           0.4884284615160722,
           0.35868033389245274,
           0.5510237653754985,
           0.5326538047883285,
           0.44708163647706556,
           0.37852191222951614,
           0.5578056674089372,
           0.4816604040686497,
           0.2857142857142857,
           0.4177145266708834,
           0.3908479412963718,
           0.4666666666666667,
           0.40684915098442065,
           0.4243084731090992,
           0.21428571428571427,
           0.10173913043478262,
           0.48290392857345843,
           0.11282051282051282,
           0.2,
           0.421798803121315,
           0.4600842815002107,
           0.4461538461538462,
           0.3056483351607132,
           0.4965368500054983,
           0.4012870046403137,
           0.4701985103130929,
           0.40747306177381065,
           0.27490842490842493,
           0.451542715067934,
           0.3430326805214509,
           0.01333333333333333,
           0.363678180908743,
           0.3414628068222495,
           0.1368674698795181,
           0.02857142857142857,
           0.5259436452939928,
           0.4918217697128938,
           0.4,
           0.14583333333333331,
           0.32616586242623025,
           0.36614764836892444,
           0.36256492868373763,
           0.372629931202364,
           0.36895636527215475,
           0.3997846425419241,
           0.29327276151021564,
           0.3468353505562808,
           0.4873721781571724,
           0.30678302007415936,
           0.36750957854406124,
           0.3657515292611347,
           0.3772727272727273,
           0.3869391691655821,
           0.4121151348598956,
           0.31517952635599694,
           0,
           0.3,
           0.2862470862470862,
           0.20225108225108226,
           0.39732405591840764
          ],
          "coloraxis": "coloraxis",
          "pattern": {
           "shape": ""
          }
         },
         "name": "",
         "offsetgroup": "",
         "orientation": "v",
         "showlegend": false,
         "textposition": "auto",
         "type": "bar",
         "x": [
          "Juan Pérez",
          "Carlos López",
          "Miguel Rodríguez",
          "David Hernández",
          "José Martínez",
          "Alejandro García",
          "Andrés González",
          "Daniel Sánchez",
          "Francisco Ramírez",
          "Javier Díaz",
          "Fernando Morales",
          "Luis Castillo",
          "Sergio Romero",
          "Diego Torres",
          "Manuel Cruz",
          "Antonio Ortiz",
          "Pablo Jiménez",
          "Santiago Flores",
          "Álvaro Navarro",
          "Tomás Méndez",
          "Iván Ruiz",
          "Guillermo Vázquez",
          "Rubén Fernández",
          "Adrián Mendoza",
          "Pedro Aguilar",
          "Raúl Paredes",
          "Enrique Herrera",
          "Gonzalo Castro",
          "Jaime Domínguez",
          "Mario Peña",
          "Héctor Rivas",
          "Marcos Silva",
          "Cristian Escobar",
          "Agustín Ríos",
          "Bruno Valenzuela",
          "Oscar Salinas",
          "Alberto Campos",
          "Hugo Cordero",
          "Felipe Ponce",
          "Matías Suárez",
          "Julián Blanco",
          "Sebastián Ortega",
          "Nicolás Valverde",
          "Ricardo Vega",
          "Ángel Reyes",
          "Eduardo Luna",
          "Esteban Bautista",
          "Vicente Moreno",
          "Rodrigo Lara",
          "Fabián Palacios",
          "Emiliano Pizarro",
          "Germán Salazar",
          "Kevin Nieto",
          "Alfredo Quintana",
          "Martín Robles",
          "Jesús Ferrer",
          "Samuel Arce",
          "Rafael Gutiérrez",
          "Marcos Zamora",
          "Jonathan Núñez",
          "Damián Villegas",
          "Ezequiel Galindo",
          "Bruno Santillán",
          "Joel Bustamante",
          "Gabriel Paredes",
          "Arturo Montes",
          "Joaquín Beltrán",
          "Mauricio Carrillo",
          "Matías Benítez",
          "Javier Torres",
          "Hugo Orozco",
          "Lucas Valero",
          "Omar Morales",
          "Raúl Montoya",
          "Daniel Frías",
          "Simón Vera",
          "Franco Soto",
          "Abel Galván",
          "Luis Padilla",
          "Israel Barrera",
          "Efraín Guerra",
          "Rubén Luna",
          "Adolfo Caballero",
          "Cristian Fuentes",
          "Luciano Santana",
          "Aarón Ríos",
          "Gonzalo Montero",
          "Eduardo Espinoza",
          "Antonio Vega",
          "Adrián Ruiz",
          "Juan Pablo Muñoz",
          "Rafael Navarro",
          "Jaime Molina",
          "David Ramos",
          "Andrés Castaño",
          "Jorge Lozano",
          "Nicolás Cuevas",
          "Félix Aguilera",
          "Alex Soria",
          "Santiago Miranda",
          "Diego Tapia",
          "Camilo Escamilla",
          "Álvaro Zúñiga",
          "Ángel Valencia",
          "Gonzalo Pastor",
          "Luis Figueroa",
          "Ricardo Benítez",
          "Martín Sandoval",
          "Oscar Medina",
          "Leonardo Cárdenas",
          "Jesús Ventura",
          "Ernesto Becerra",
          "Vicente Sosa",
          "Bruno Miranda",
          "Julián Méndez"
         ],
         "xaxis": "x",
         "y": [
          0.3528985507246377,
          0.39413127413127413,
          0.36940092165898614,
          0.3372863418987255,
          0.1571428571428571,
          0.09090909090909091,
          0.40714774629153644,
          0.4182696592825689,
          0.31219758064516123,
          0.27142857142857146,
          0.15683016482876772,
          0.3651075414176635,
          0.21166321601104204,
          0.14060606060606062,
          0.3659743366681166,
          0.24854497354497354,
          0.369969040247678,
          0.4499474789915966,
          0.4582599088006442,
          0.3492419998302351,
          0.3948552482746559,
          0.4293058790545203,
          0.2869006866126889,
          0.4025042692884634,
          0.2038095238095238,
          0,
          0.3829365079365079,
          0.4099854171547288,
          0.397462974735702,
          0.44276147582278336,
          0.2916344916344916,
          0.4490075160889238,
          0.45582657241908536,
          0.29963235294117646,
          0.3033504667375635,
          0.4,
          0.290625,
          0.38202716937270714,
          0.429677750882124,
          0.4138019224658275,
          0.4090322580645161,
          0.2666666666666667,
          0.34423475998869846,
          0.3355667588225728,
          0.02222222222222222,
          0.41325426202690957,
          0.32467171717171717,
          0.31333333333333335,
          0.30537634408602155,
          0.45524891774891774,
          0,
          0.33251608783725434,
          0.4256117794286019,
          0.3064742366412214,
          0.3536353077816492,
          0.4884284615160722,
          0.35868033389245274,
          0.5510237653754985,
          0.5326538047883285,
          0.44708163647706556,
          0.37852191222951614,
          0.5578056674089372,
          0.4816604040686497,
          0.2857142857142857,
          0.4177145266708834,
          0.3908479412963718,
          0.4666666666666667,
          0.40684915098442065,
          0.4243084731090992,
          0.21428571428571427,
          0.10173913043478262,
          0.48290392857345843,
          0.11282051282051282,
          0.2,
          0.421798803121315,
          0.4600842815002107,
          0.4461538461538462,
          0.3056483351607132,
          0.4965368500054983,
          0.4012870046403137,
          0.4701985103130929,
          0.40747306177381065,
          0.27490842490842493,
          0.451542715067934,
          0.3430326805214509,
          0.01333333333333333,
          0.363678180908743,
          0.3414628068222495,
          0.1368674698795181,
          0.02857142857142857,
          0.5259436452939928,
          0.4918217697128938,
          0.4,
          0.14583333333333331,
          0.32616586242623025,
          0.36614764836892444,
          0.36256492868373763,
          0.372629931202364,
          0.36895636527215475,
          0.3997846425419241,
          0.29327276151021564,
          0.3468353505562808,
          0.4873721781571724,
          0.30678302007415936,
          0.36750957854406124,
          0.3657515292611347,
          0.3772727272727273,
          0.3869391691655821,
          0.4121151348598956,
          0.31517952635599694,
          0,
          0.3,
          0.2862470862470862,
          0.20225108225108226,
          0.39732405591840764
         ],
         "yaxis": "y"
        }
       ],
       "layout": {
        "barmode": "relative",
        "coloraxis": {
         "colorbar": {
          "title": {
           "text": "PER Aproximado"
          }
         },
         "colorscale": [
          [
           0,
           "rgb(247,251,255)"
          ],
          [
           0.125,
           "rgb(222,235,247)"
          ],
          [
           0.25,
           "rgb(198,219,239)"
          ],
          [
           0.375,
           "rgb(158,202,225)"
          ],
          [
           0.5,
           "rgb(107,174,214)"
          ],
          [
           0.625,
           "rgb(66,146,198)"
          ],
          [
           0.75,
           "rgb(33,113,181)"
          ],
          [
           0.875,
           "rgb(8,81,156)"
          ],
          [
           1,
           "rgb(8,48,107)"
          ]
         ]
        },
        "legend": {
         "tracegroupgap": 0
        },
        "template": {
         "data": {
          "bar": [
           {
            "error_x": {
             "color": "#2a3f5f"
            },
            "error_y": {
             "color": "#2a3f5f"
            },
            "marker": {
             "line": {
              "color": "#E5ECF6",
              "width": 0.5
             },
             "pattern": {
              "fillmode": "overlay",
              "size": 10,
              "solidity": 0.2
             }
            },
            "type": "bar"
           }
          ],
          "barpolar": [
           {
            "marker": {
             "line": {
              "color": "#E5ECF6",
              "width": 0.5
             },
             "pattern": {
              "fillmode": "overlay",
              "size": 10,
              "solidity": 0.2
             }
            },
            "type": "barpolar"
           }
          ],
          "carpet": [
           {
            "aaxis": {
             "endlinecolor": "#2a3f5f",
             "gridcolor": "white",
             "linecolor": "white",
             "minorgridcolor": "white",
             "startlinecolor": "#2a3f5f"
            },
            "baxis": {
             "endlinecolor": "#2a3f5f",
             "gridcolor": "white",
             "linecolor": "white",
             "minorgridcolor": "white",
             "startlinecolor": "#2a3f5f"
            },
            "type": "carpet"
           }
          ],
          "choropleth": [
           {
            "colorbar": {
             "outlinewidth": 0,
             "ticks": ""
            },
            "type": "choropleth"
           }
          ],
          "contour": [
           {
            "colorbar": {
             "outlinewidth": 0,
             "ticks": ""
            },
            "colorscale": [
             [
              0,
              "#0d0887"
             ],
             [
              0.1111111111111111,
              "#46039f"
             ],
             [
              0.2222222222222222,
              "#7201a8"
             ],
             [
              0.3333333333333333,
              "#9c179e"
             ],
             [
              0.4444444444444444,
              "#bd3786"
             ],
             [
              0.5555555555555556,
              "#d8576b"
             ],
             [
              0.6666666666666666,
              "#ed7953"
             ],
             [
              0.7777777777777778,
              "#fb9f3a"
             ],
             [
              0.8888888888888888,
              "#fdca26"
             ],
             [
              1,
              "#f0f921"
             ]
            ],
            "type": "contour"
           }
          ],
          "contourcarpet": [
           {
            "colorbar": {
             "outlinewidth": 0,
             "ticks": ""
            },
            "type": "contourcarpet"
           }
          ],
          "heatmap": [
           {
            "colorbar": {
             "outlinewidth": 0,
             "ticks": ""
            },
            "colorscale": [
             [
              0,
              "#0d0887"
             ],
             [
              0.1111111111111111,
              "#46039f"
             ],
             [
              0.2222222222222222,
              "#7201a8"
             ],
             [
              0.3333333333333333,
              "#9c179e"
             ],
             [
              0.4444444444444444,
              "#bd3786"
             ],
             [
              0.5555555555555556,
              "#d8576b"
             ],
             [
              0.6666666666666666,
              "#ed7953"
             ],
             [
              0.7777777777777778,
              "#fb9f3a"
             ],
             [
              0.8888888888888888,
              "#fdca26"
             ],
             [
              1,
              "#f0f921"
             ]
            ],
            "type": "heatmap"
           }
          ],
          "heatmapgl": [
           {
            "colorbar": {
             "outlinewidth": 0,
             "ticks": ""
            },
            "colorscale": [
             [
              0,
              "#0d0887"
             ],
             [
              0.1111111111111111,
              "#46039f"
             ],
             [
              0.2222222222222222,
              "#7201a8"
             ],
             [
              0.3333333333333333,
              "#9c179e"
             ],
             [
              0.4444444444444444,
              "#bd3786"
             ],
             [
              0.5555555555555556,
              "#d8576b"
             ],
             [
              0.6666666666666666,
              "#ed7953"
             ],
             [
              0.7777777777777778,
              "#fb9f3a"
             ],
             [
              0.8888888888888888,
              "#fdca26"
             ],
             [
              1,
              "#f0f921"
             ]
            ],
            "type": "heatmapgl"
           }
          ],
          "histogram": [
           {
            "marker": {
             "pattern": {
              "fillmode": "overlay",
              "size": 10,
              "solidity": 0.2
             }
            },
            "type": "histogram"
           }
          ],
          "histogram2d": [
           {
            "colorbar": {
             "outlinewidth": 0,
             "ticks": ""
            },
            "colorscale": [
             [
              0,
              "#0d0887"
             ],
             [
              0.1111111111111111,
              "#46039f"
             ],
             [
              0.2222222222222222,
              "#7201a8"
             ],
             [
              0.3333333333333333,
              "#9c179e"
             ],
             [
              0.4444444444444444,
              "#bd3786"
             ],
             [
              0.5555555555555556,
              "#d8576b"
             ],
             [
              0.6666666666666666,
              "#ed7953"
             ],
             [
              0.7777777777777778,
              "#fb9f3a"
             ],
             [
              0.8888888888888888,
              "#fdca26"
             ],
             [
              1,
              "#f0f921"
             ]
            ],
            "type": "histogram2d"
           }
          ],
          "histogram2dcontour": [
           {
            "colorbar": {
             "outlinewidth": 0,
             "ticks": ""
            },
            "colorscale": [
             [
              0,
              "#0d0887"
             ],
             [
              0.1111111111111111,
              "#46039f"
             ],
             [
              0.2222222222222222,
              "#7201a8"
             ],
             [
              0.3333333333333333,
              "#9c179e"
             ],
             [
              0.4444444444444444,
              "#bd3786"
             ],
             [
              0.5555555555555556,
              "#d8576b"
             ],
             [
              0.6666666666666666,
              "#ed7953"
             ],
             [
              0.7777777777777778,
              "#fb9f3a"
             ],
             [
              0.8888888888888888,
              "#fdca26"
             ],
             [
              1,
              "#f0f921"
             ]
            ],
            "type": "histogram2dcontour"
           }
          ],
          "mesh3d": [
           {
            "colorbar": {
             "outlinewidth": 0,
             "ticks": ""
            },
            "type": "mesh3d"
           }
          ],
          "parcoords": [
           {
            "line": {
             "colorbar": {
              "outlinewidth": 0,
              "ticks": ""
             }
            },
            "type": "parcoords"
           }
          ],
          "pie": [
           {
            "automargin": true,
            "type": "pie"
           }
          ],
          "scatter": [
           {
            "fillpattern": {
             "fillmode": "overlay",
             "size": 10,
             "solidity": 0.2
            },
            "type": "scatter"
           }
          ],
          "scatter3d": [
           {
            "line": {
             "colorbar": {
              "outlinewidth": 0,
              "ticks": ""
             }
            },
            "marker": {
             "colorbar": {
              "outlinewidth": 0,
              "ticks": ""
             }
            },
            "type": "scatter3d"
           }
          ],
          "scattercarpet": [
           {
            "marker": {
             "colorbar": {
              "outlinewidth": 0,
              "ticks": ""
             }
            },
            "type": "scattercarpet"
           }
          ],
          "scattergeo": [
           {
            "marker": {
             "colorbar": {
              "outlinewidth": 0,
              "ticks": ""
             }
            },
            "type": "scattergeo"
           }
          ],
          "scattergl": [
           {
            "marker": {
             "colorbar": {
              "outlinewidth": 0,
              "ticks": ""
             }
            },
            "type": "scattergl"
           }
          ],
          "scattermapbox": [
           {
            "marker": {
             "colorbar": {
              "outlinewidth": 0,
              "ticks": ""
             }
            },
            "type": "scattermapbox"
           }
          ],
          "scatterpolar": [
           {
            "marker": {
             "colorbar": {
              "outlinewidth": 0,
              "ticks": ""
             }
            },
            "type": "scatterpolar"
           }
          ],
          "scatterpolargl": [
           {
            "marker": {
             "colorbar": {
              "outlinewidth": 0,
              "ticks": ""
             }
            },
            "type": "scatterpolargl"
           }
          ],
          "scatterternary": [
           {
            "marker": {
             "colorbar": {
              "outlinewidth": 0,
              "ticks": ""
             }
            },
            "type": "scatterternary"
           }
          ],
          "surface": [
           {
            "colorbar": {
             "outlinewidth": 0,
             "ticks": ""
            },
            "colorscale": [
             [
              0,
              "#0d0887"
             ],
             [
              0.1111111111111111,
              "#46039f"
             ],
             [
              0.2222222222222222,
              "#7201a8"
             ],
             [
              0.3333333333333333,
              "#9c179e"
             ],
             [
              0.4444444444444444,
              "#bd3786"
             ],
             [
              0.5555555555555556,
              "#d8576b"
             ],
             [
              0.6666666666666666,
              "#ed7953"
             ],
             [
              0.7777777777777778,
              "#fb9f3a"
             ],
             [
              0.8888888888888888,
              "#fdca26"
             ],
             [
              1,
              "#f0f921"
             ]
            ],
            "type": "surface"
           }
          ],
          "table": [
           {
            "cells": {
             "fill": {
              "color": "#EBF0F8"
             },
             "line": {
              "color": "white"
             }
            },
            "header": {
             "fill": {
              "color": "#C8D4E3"
             },
             "line": {
              "color": "white"
             }
            },
            "type": "table"
           }
          ]
         },
         "layout": {
          "annotationdefaults": {
           "arrowcolor": "#2a3f5f",
           "arrowhead": 0,
           "arrowwidth": 1
          },
          "autotypenumbers": "strict",
          "coloraxis": {
           "colorbar": {
            "outlinewidth": 0,
            "ticks": ""
           }
          },
          "colorscale": {
           "diverging": [
            [
             0,
             "#8e0152"
            ],
            [
             0.1,
             "#c51b7d"
            ],
            [
             0.2,
             "#de77ae"
            ],
            [
             0.3,
             "#f1b6da"
            ],
            [
             0.4,
             "#fde0ef"
            ],
            [
             0.5,
             "#f7f7f7"
            ],
            [
             0.6,
             "#e6f5d0"
            ],
            [
             0.7,
             "#b8e186"
            ],
            [
             0.8,
             "#7fbc41"
            ],
            [
             0.9,
             "#4d9221"
            ],
            [
             1,
             "#276419"
            ]
           ],
           "sequential": [
            [
             0,
             "#0d0887"
            ],
            [
             0.1111111111111111,
             "#46039f"
            ],
            [
             0.2222222222222222,
             "#7201a8"
            ],
            [
             0.3333333333333333,
             "#9c179e"
            ],
            [
             0.4444444444444444,
             "#bd3786"
            ],
            [
             0.5555555555555556,
             "#d8576b"
            ],
            [
             0.6666666666666666,
             "#ed7953"
            ],
            [
             0.7777777777777778,
             "#fb9f3a"
            ],
            [
             0.8888888888888888,
             "#fdca26"
            ],
            [
             1,
             "#f0f921"
            ]
           ],
           "sequentialminus": [
            [
             0,
             "#0d0887"
            ],
            [
             0.1111111111111111,
             "#46039f"
            ],
            [
             0.2222222222222222,
             "#7201a8"
            ],
            [
             0.3333333333333333,
             "#9c179e"
            ],
            [
             0.4444444444444444,
             "#bd3786"
            ],
            [
             0.5555555555555556,
             "#d8576b"
            ],
            [
             0.6666666666666666,
             "#ed7953"
            ],
            [
             0.7777777777777778,
             "#fb9f3a"
            ],
            [
             0.8888888888888888,
             "#fdca26"
            ],
            [
             1,
             "#f0f921"
            ]
           ]
          },
          "colorway": [
           "#636efa",
           "#EF553B",
           "#00cc96",
           "#ab63fa",
           "#FFA15A",
           "#19d3f3",
           "#FF6692",
           "#B6E880",
           "#FF97FF",
           "#FECB52"
          ],
          "font": {
           "color": "#2a3f5f"
          },
          "geo": {
           "bgcolor": "white",
           "lakecolor": "white",
           "landcolor": "#E5ECF6",
           "showlakes": true,
           "showland": true,
           "subunitcolor": "white"
          },
          "hoverlabel": {
           "align": "left"
          },
          "hovermode": "closest",
          "mapbox": {
           "style": "light"
          },
          "paper_bgcolor": "white",
          "plot_bgcolor": "#E5ECF6",
          "polar": {
           "angularaxis": {
            "gridcolor": "white",
            "linecolor": "white",
            "ticks": ""
           },
           "bgcolor": "#E5ECF6",
           "radialaxis": {
            "gridcolor": "white",
            "linecolor": "white",
            "ticks": ""
           }
          },
          "scene": {
           "xaxis": {
            "backgroundcolor": "#E5ECF6",
            "gridcolor": "white",
            "gridwidth": 2,
            "linecolor": "white",
            "showbackground": true,
            "ticks": "",
            "zerolinecolor": "white"
           },
           "yaxis": {
            "backgroundcolor": "#E5ECF6",
            "gridcolor": "white",
            "gridwidth": 2,
            "linecolor": "white",
            "showbackground": true,
            "ticks": "",
            "zerolinecolor": "white"
           },
           "zaxis": {
            "backgroundcolor": "#E5ECF6",
            "gridcolor": "white",
            "gridwidth": 2,
            "linecolor": "white",
            "showbackground": true,
            "ticks": "",
            "zerolinecolor": "white"
           }
          },
          "shapedefaults": {
           "line": {
            "color": "#2a3f5f"
           }
          },
          "ternary": {
           "aaxis": {
            "gridcolor": "white",
            "linecolor": "white",
            "ticks": ""
           },
           "baxis": {
            "gridcolor": "white",
            "linecolor": "white",
            "ticks": ""
           },
           "bgcolor": "#E5ECF6",
           "caxis": {
            "gridcolor": "white",
            "linecolor": "white",
            "ticks": ""
           }
          },
          "title": {
           "x": 0.05
          },
          "xaxis": {
           "automargin": true,
           "gridcolor": "white",
           "linecolor": "white",
           "ticks": "",
           "title": {
            "standoff": 15
           },
           "zerolinecolor": "white",
           "zerolinewidth": 2
          },
          "yaxis": {
           "automargin": true,
           "gridcolor": "white",
           "linecolor": "white",
           "ticks": "",
           "title": {
            "standoff": 15
           },
           "zerolinecolor": "white",
           "zerolinewidth": 2
          }
         }
        },
        "title": {
         "text": "PER Aproximado de los Jugadores de Baloncesto"
        },
        "xaxis": {
         "anchor": "y",
         "domain": [
          0,
          1
         ],
         "title": {
          "text": "Jugador"
         }
        },
        "yaxis": {
         "anchor": "x",
         "domain": [
          0,
          1
         ],
         "title": {
          "text": "PER Aproximado"
         }
        }
       }
      }
     },
     "metadata": {},
     "output_type": "display_data"
    }
   ],
   "source": [
    "# Graficamos el PER aproximado\n",
    "fig = px.bar(df, x='Nombre', y='PER Aproximado', title=\"PER Aproximado de los Jugadores de Baloncesto\",\n",
    "             labels={'PER Aproximado': 'PER Aproximado', 'Nombre': 'Jugador'},\n",
    "             color='PER Aproximado', color_continuous_scale='Blues')\n",
    "\n",
    "# Mostramos el gráfico\n",
    "fig.show()"
   ]
  },
  {
   "cell_type": "code",
   "execution_count": 8,
   "metadata": {},
   "outputs": [
    {
     "data": {
      "application/vnd.plotly.v1+json": {
       "config": {
        "plotlyServerURL": "https://plot.ly"
       },
       "data": [
        {
         "alignmentgroup": "True",
         "hovertemplate": "Nombre=%{x}<br>Ataque=%{y}<extra></extra>",
         "legendgroup": "",
         "marker": {
          "color": "#636efa",
          "pattern": {
           "shape": ""
          }
         },
         "name": "",
         "offsetgroup": "",
         "orientation": "v",
         "showlegend": false,
         "textposition": "auto",
         "type": "bar",
         "x": [
          "Juan Pérez",
          "Carlos López",
          "Miguel Rodríguez",
          "David Hernández",
          "José Martínez",
          "Alejandro García",
          "Andrés González",
          "Daniel Sánchez",
          "Francisco Ramírez",
          "Javier Díaz",
          "Fernando Morales",
          "Luis Castillo",
          "Sergio Romero",
          "Diego Torres",
          "Manuel Cruz",
          "Antonio Ortiz",
          "Pablo Jiménez",
          "Santiago Flores",
          "Álvaro Navarro",
          "Tomás Méndez",
          "Iván Ruiz",
          "Guillermo Vázquez",
          "Rubén Fernández",
          "Adrián Mendoza",
          "Pedro Aguilar",
          "Raúl Paredes",
          "Enrique Herrera",
          "Gonzalo Castro",
          "Jaime Domínguez",
          "Mario Peña",
          "Héctor Rivas",
          "Marcos Silva",
          "Cristian Escobar",
          "Agustín Ríos",
          "Bruno Valenzuela",
          "Oscar Salinas",
          "Alberto Campos",
          "Hugo Cordero",
          "Felipe Ponce",
          "Matías Suárez",
          "Julián Blanco",
          "Sebastián Ortega",
          "Nicolás Valverde",
          "Ricardo Vega",
          "Ángel Reyes",
          "Eduardo Luna",
          "Esteban Bautista",
          "Vicente Moreno",
          "Rodrigo Lara",
          "Fabián Palacios",
          "Emiliano Pizarro",
          "Germán Salazar",
          "Kevin Nieto",
          "Alfredo Quintana",
          "Martín Robles",
          "Jesús Ferrer",
          "Samuel Arce",
          "Rafael Gutiérrez",
          "Marcos Zamora",
          "Jonathan Núñez",
          "Damián Villegas",
          "Ezequiel Galindo",
          "Bruno Santillán",
          "Joel Bustamante",
          "Gabriel Paredes",
          "Arturo Montes",
          "Joaquín Beltrán",
          "Mauricio Carrillo",
          "Matías Benítez",
          "Javier Torres",
          "Hugo Orozco",
          "Lucas Valero",
          "Omar Morales",
          "Raúl Montoya",
          "Daniel Frías",
          "Simón Vera",
          "Franco Soto",
          "Abel Galván",
          "Luis Padilla",
          "Israel Barrera",
          "Efraín Guerra",
          "Rubén Luna",
          "Adolfo Caballero",
          "Cristian Fuentes",
          "Luciano Santana",
          "Aarón Ríos",
          "Gonzalo Montero",
          "Eduardo Espinoza",
          "Antonio Vega",
          "Adrián Ruiz",
          "Juan Pablo Muñoz",
          "Rafael Navarro",
          "Jaime Molina",
          "David Ramos",
          "Andrés Castaño",
          "Jorge Lozano",
          "Nicolás Cuevas",
          "Félix Aguilera",
          "Alex Soria",
          "Santiago Miranda",
          "Diego Tapia",
          "Camilo Escamilla",
          "Álvaro Zúñiga",
          "Ángel Valencia",
          "Gonzalo Pastor",
          "Luis Figueroa",
          "Ricardo Benítez",
          "Martín Sandoval",
          "Oscar Medina",
          "Leonardo Cárdenas",
          "Jesús Ventura",
          "Ernesto Becerra",
          "Vicente Sosa",
          "Bruno Miranda",
          "Julián Méndez"
         ],
         "xaxis": "x",
         "y": [
          0.3550724637681159,
          0.384,
          0.30414746543778803,
          0.1970802919708029,
          0.14285714285714285,
          0.18181818181818182,
          0.5186721991701245,
          0.7089947089947091,
          0.3369175627240143,
          0.18571428571428572,
          0.15647921760391198,
          0.37688442211055273,
          0.10869565217391303,
          0.16000000000000003,
          0.36363636363636365,
          0.20987654320987653,
          0.32352941176470584,
          0.5223214285714286,
          0.46771037181996084,
          0.2823529411764706,
          0.2684563758389262,
          0.5333333333333333,
          0.24418604651162792,
          0.3675373134328358,
          0.23333333333333334,
          0,
          0.14682539682539683,
          0.39322033898305087,
          0.424793388429752,
          0.4818355640535373,
          0.2072072072072072,
          0.493127147766323,
          0.5453446191051995,
          0.3359375,
          0.1935483870967742,
          1,
          0.15625,
          0.3201754385964912,
          0.41337907375643224,
          0.43966942148760335,
          0.14516129032258066,
          0,
          0.35777126099706746,
          0.4418604651162791,
          0.1111111111111111,
          0.3747645951035782,
          0.2645833333333333,
          0.39999999999999997,
          0.31182795698924737,
          0.53125,
          0,
          0.351985559566787,
          0.4174454828660436,
          0.33587786259541985,
          0.33066666666666666,
          0.6508264462809917,
          0.2997946611909651,
          0.7218045112781954,
          0.6836461126005361,
          0.40114613180515757,
          0.33260393873085337,
          0.7941888619854722,
          0.5031982942430704,
          0.25,
          0.4322580645161291,
          0.38565022421524664,
          1,
          0.37554585152838427,
          0.3680297397769517,
          0.07142857142857142,
          0.10869565217391305,
          0.5365448504983389,
          0.23076923076923078,
          1,
          0.4395973154362416,
          0.37168141592920356,
          0.15384615384615385,
          0.1813953488372093,
          0.6194926568758344,
          0.46534653465346537,
          0.601123595505618,
          0.4923664122137405,
          0.29059829059829057,
          0.5484764542936288,
          0.3957597173144876,
          0,
          0.3259668508287293,
          0.3861538461538461,
          0.08433734939759036,
          0,
          0.7198838896952104,
          0.625585023400936,
          1,
          0.0625,
          0.3940677966101695,
          0.38752783964365256,
          0.357421875,
          0.3425692695214106,
          0.41228070175438597,
          0.4444444444444444,
          0.29767441860465116,
          0.29874776386404295,
          0.43830570902394106,
          0.33999999999999997,
          0.32413793103448274,
          0.3851351351351352,
          0.40909090909090906,
          0.42255125284738043,
          0.4823889739663093,
          0.3588235294117647,
          0,
          0.3333333333333333,
          0.3269230769230769,
          0.2571428571428571,
          0.4795918367346939
         ],
         "yaxis": "y"
        }
       ],
       "layout": {
        "barmode": "relative",
        "legend": {
         "tracegroupgap": 0
        },
        "margin": {
         "t": 60
        },
        "template": {
         "data": {
          "bar": [
           {
            "error_x": {
             "color": "#2a3f5f"
            },
            "error_y": {
             "color": "#2a3f5f"
            },
            "marker": {
             "line": {
              "color": "#E5ECF6",
              "width": 0.5
             },
             "pattern": {
              "fillmode": "overlay",
              "size": 10,
              "solidity": 0.2
             }
            },
            "type": "bar"
           }
          ],
          "barpolar": [
           {
            "marker": {
             "line": {
              "color": "#E5ECF6",
              "width": 0.5
             },
             "pattern": {
              "fillmode": "overlay",
              "size": 10,
              "solidity": 0.2
             }
            },
            "type": "barpolar"
           }
          ],
          "carpet": [
           {
            "aaxis": {
             "endlinecolor": "#2a3f5f",
             "gridcolor": "white",
             "linecolor": "white",
             "minorgridcolor": "white",
             "startlinecolor": "#2a3f5f"
            },
            "baxis": {
             "endlinecolor": "#2a3f5f",
             "gridcolor": "white",
             "linecolor": "white",
             "minorgridcolor": "white",
             "startlinecolor": "#2a3f5f"
            },
            "type": "carpet"
           }
          ],
          "choropleth": [
           {
            "colorbar": {
             "outlinewidth": 0,
             "ticks": ""
            },
            "type": "choropleth"
           }
          ],
          "contour": [
           {
            "colorbar": {
             "outlinewidth": 0,
             "ticks": ""
            },
            "colorscale": [
             [
              0,
              "#0d0887"
             ],
             [
              0.1111111111111111,
              "#46039f"
             ],
             [
              0.2222222222222222,
              "#7201a8"
             ],
             [
              0.3333333333333333,
              "#9c179e"
             ],
             [
              0.4444444444444444,
              "#bd3786"
             ],
             [
              0.5555555555555556,
              "#d8576b"
             ],
             [
              0.6666666666666666,
              "#ed7953"
             ],
             [
              0.7777777777777778,
              "#fb9f3a"
             ],
             [
              0.8888888888888888,
              "#fdca26"
             ],
             [
              1,
              "#f0f921"
             ]
            ],
            "type": "contour"
           }
          ],
          "contourcarpet": [
           {
            "colorbar": {
             "outlinewidth": 0,
             "ticks": ""
            },
            "type": "contourcarpet"
           }
          ],
          "heatmap": [
           {
            "colorbar": {
             "outlinewidth": 0,
             "ticks": ""
            },
            "colorscale": [
             [
              0,
              "#0d0887"
             ],
             [
              0.1111111111111111,
              "#46039f"
             ],
             [
              0.2222222222222222,
              "#7201a8"
             ],
             [
              0.3333333333333333,
              "#9c179e"
             ],
             [
              0.4444444444444444,
              "#bd3786"
             ],
             [
              0.5555555555555556,
              "#d8576b"
             ],
             [
              0.6666666666666666,
              "#ed7953"
             ],
             [
              0.7777777777777778,
              "#fb9f3a"
             ],
             [
              0.8888888888888888,
              "#fdca26"
             ],
             [
              1,
              "#f0f921"
             ]
            ],
            "type": "heatmap"
           }
          ],
          "heatmapgl": [
           {
            "colorbar": {
             "outlinewidth": 0,
             "ticks": ""
            },
            "colorscale": [
             [
              0,
              "#0d0887"
             ],
             [
              0.1111111111111111,
              "#46039f"
             ],
             [
              0.2222222222222222,
              "#7201a8"
             ],
             [
              0.3333333333333333,
              "#9c179e"
             ],
             [
              0.4444444444444444,
              "#bd3786"
             ],
             [
              0.5555555555555556,
              "#d8576b"
             ],
             [
              0.6666666666666666,
              "#ed7953"
             ],
             [
              0.7777777777777778,
              "#fb9f3a"
             ],
             [
              0.8888888888888888,
              "#fdca26"
             ],
             [
              1,
              "#f0f921"
             ]
            ],
            "type": "heatmapgl"
           }
          ],
          "histogram": [
           {
            "marker": {
             "pattern": {
              "fillmode": "overlay",
              "size": 10,
              "solidity": 0.2
             }
            },
            "type": "histogram"
           }
          ],
          "histogram2d": [
           {
            "colorbar": {
             "outlinewidth": 0,
             "ticks": ""
            },
            "colorscale": [
             [
              0,
              "#0d0887"
             ],
             [
              0.1111111111111111,
              "#46039f"
             ],
             [
              0.2222222222222222,
              "#7201a8"
             ],
             [
              0.3333333333333333,
              "#9c179e"
             ],
             [
              0.4444444444444444,
              "#bd3786"
             ],
             [
              0.5555555555555556,
              "#d8576b"
             ],
             [
              0.6666666666666666,
              "#ed7953"
             ],
             [
              0.7777777777777778,
              "#fb9f3a"
             ],
             [
              0.8888888888888888,
              "#fdca26"
             ],
             [
              1,
              "#f0f921"
             ]
            ],
            "type": "histogram2d"
           }
          ],
          "histogram2dcontour": [
           {
            "colorbar": {
             "outlinewidth": 0,
             "ticks": ""
            },
            "colorscale": [
             [
              0,
              "#0d0887"
             ],
             [
              0.1111111111111111,
              "#46039f"
             ],
             [
              0.2222222222222222,
              "#7201a8"
             ],
             [
              0.3333333333333333,
              "#9c179e"
             ],
             [
              0.4444444444444444,
              "#bd3786"
             ],
             [
              0.5555555555555556,
              "#d8576b"
             ],
             [
              0.6666666666666666,
              "#ed7953"
             ],
             [
              0.7777777777777778,
              "#fb9f3a"
             ],
             [
              0.8888888888888888,
              "#fdca26"
             ],
             [
              1,
              "#f0f921"
             ]
            ],
            "type": "histogram2dcontour"
           }
          ],
          "mesh3d": [
           {
            "colorbar": {
             "outlinewidth": 0,
             "ticks": ""
            },
            "type": "mesh3d"
           }
          ],
          "parcoords": [
           {
            "line": {
             "colorbar": {
              "outlinewidth": 0,
              "ticks": ""
             }
            },
            "type": "parcoords"
           }
          ],
          "pie": [
           {
            "automargin": true,
            "type": "pie"
           }
          ],
          "scatter": [
           {
            "fillpattern": {
             "fillmode": "overlay",
             "size": 10,
             "solidity": 0.2
            },
            "type": "scatter"
           }
          ],
          "scatter3d": [
           {
            "line": {
             "colorbar": {
              "outlinewidth": 0,
              "ticks": ""
             }
            },
            "marker": {
             "colorbar": {
              "outlinewidth": 0,
              "ticks": ""
             }
            },
            "type": "scatter3d"
           }
          ],
          "scattercarpet": [
           {
            "marker": {
             "colorbar": {
              "outlinewidth": 0,
              "ticks": ""
             }
            },
            "type": "scattercarpet"
           }
          ],
          "scattergeo": [
           {
            "marker": {
             "colorbar": {
              "outlinewidth": 0,
              "ticks": ""
             }
            },
            "type": "scattergeo"
           }
          ],
          "scattergl": [
           {
            "marker": {
             "colorbar": {
              "outlinewidth": 0,
              "ticks": ""
             }
            },
            "type": "scattergl"
           }
          ],
          "scattermapbox": [
           {
            "marker": {
             "colorbar": {
              "outlinewidth": 0,
              "ticks": ""
             }
            },
            "type": "scattermapbox"
           }
          ],
          "scatterpolar": [
           {
            "marker": {
             "colorbar": {
              "outlinewidth": 0,
              "ticks": ""
             }
            },
            "type": "scatterpolar"
           }
          ],
          "scatterpolargl": [
           {
            "marker": {
             "colorbar": {
              "outlinewidth": 0,
              "ticks": ""
             }
            },
            "type": "scatterpolargl"
           }
          ],
          "scatterternary": [
           {
            "marker": {
             "colorbar": {
              "outlinewidth": 0,
              "ticks": ""
             }
            },
            "type": "scatterternary"
           }
          ],
          "surface": [
           {
            "colorbar": {
             "outlinewidth": 0,
             "ticks": ""
            },
            "colorscale": [
             [
              0,
              "#0d0887"
             ],
             [
              0.1111111111111111,
              "#46039f"
             ],
             [
              0.2222222222222222,
              "#7201a8"
             ],
             [
              0.3333333333333333,
              "#9c179e"
             ],
             [
              0.4444444444444444,
              "#bd3786"
             ],
             [
              0.5555555555555556,
              "#d8576b"
             ],
             [
              0.6666666666666666,
              "#ed7953"
             ],
             [
              0.7777777777777778,
              "#fb9f3a"
             ],
             [
              0.8888888888888888,
              "#fdca26"
             ],
             [
              1,
              "#f0f921"
             ]
            ],
            "type": "surface"
           }
          ],
          "table": [
           {
            "cells": {
             "fill": {
              "color": "#EBF0F8"
             },
             "line": {
              "color": "white"
             }
            },
            "header": {
             "fill": {
              "color": "#C8D4E3"
             },
             "line": {
              "color": "white"
             }
            },
            "type": "table"
           }
          ]
         },
         "layout": {
          "annotationdefaults": {
           "arrowcolor": "#2a3f5f",
           "arrowhead": 0,
           "arrowwidth": 1
          },
          "autotypenumbers": "strict",
          "coloraxis": {
           "colorbar": {
            "outlinewidth": 0,
            "ticks": ""
           }
          },
          "colorscale": {
           "diverging": [
            [
             0,
             "#8e0152"
            ],
            [
             0.1,
             "#c51b7d"
            ],
            [
             0.2,
             "#de77ae"
            ],
            [
             0.3,
             "#f1b6da"
            ],
            [
             0.4,
             "#fde0ef"
            ],
            [
             0.5,
             "#f7f7f7"
            ],
            [
             0.6,
             "#e6f5d0"
            ],
            [
             0.7,
             "#b8e186"
            ],
            [
             0.8,
             "#7fbc41"
            ],
            [
             0.9,
             "#4d9221"
            ],
            [
             1,
             "#276419"
            ]
           ],
           "sequential": [
            [
             0,
             "#0d0887"
            ],
            [
             0.1111111111111111,
             "#46039f"
            ],
            [
             0.2222222222222222,
             "#7201a8"
            ],
            [
             0.3333333333333333,
             "#9c179e"
            ],
            [
             0.4444444444444444,
             "#bd3786"
            ],
            [
             0.5555555555555556,
             "#d8576b"
            ],
            [
             0.6666666666666666,
             "#ed7953"
            ],
            [
             0.7777777777777778,
             "#fb9f3a"
            ],
            [
             0.8888888888888888,
             "#fdca26"
            ],
            [
             1,
             "#f0f921"
            ]
           ],
           "sequentialminus": [
            [
             0,
             "#0d0887"
            ],
            [
             0.1111111111111111,
             "#46039f"
            ],
            [
             0.2222222222222222,
             "#7201a8"
            ],
            [
             0.3333333333333333,
             "#9c179e"
            ],
            [
             0.4444444444444444,
             "#bd3786"
            ],
            [
             0.5555555555555556,
             "#d8576b"
            ],
            [
             0.6666666666666666,
             "#ed7953"
            ],
            [
             0.7777777777777778,
             "#fb9f3a"
            ],
            [
             0.8888888888888888,
             "#fdca26"
            ],
            [
             1,
             "#f0f921"
            ]
           ]
          },
          "colorway": [
           "#636efa",
           "#EF553B",
           "#00cc96",
           "#ab63fa",
           "#FFA15A",
           "#19d3f3",
           "#FF6692",
           "#B6E880",
           "#FF97FF",
           "#FECB52"
          ],
          "font": {
           "color": "#2a3f5f"
          },
          "geo": {
           "bgcolor": "white",
           "lakecolor": "white",
           "landcolor": "#E5ECF6",
           "showlakes": true,
           "showland": true,
           "subunitcolor": "white"
          },
          "hoverlabel": {
           "align": "left"
          },
          "hovermode": "closest",
          "mapbox": {
           "style": "light"
          },
          "paper_bgcolor": "white",
          "plot_bgcolor": "#E5ECF6",
          "polar": {
           "angularaxis": {
            "gridcolor": "white",
            "linecolor": "white",
            "ticks": ""
           },
           "bgcolor": "#E5ECF6",
           "radialaxis": {
            "gridcolor": "white",
            "linecolor": "white",
            "ticks": ""
           }
          },
          "scene": {
           "xaxis": {
            "backgroundcolor": "#E5ECF6",
            "gridcolor": "white",
            "gridwidth": 2,
            "linecolor": "white",
            "showbackground": true,
            "ticks": "",
            "zerolinecolor": "white"
           },
           "yaxis": {
            "backgroundcolor": "#E5ECF6",
            "gridcolor": "white",
            "gridwidth": 2,
            "linecolor": "white",
            "showbackground": true,
            "ticks": "",
            "zerolinecolor": "white"
           },
           "zaxis": {
            "backgroundcolor": "#E5ECF6",
            "gridcolor": "white",
            "gridwidth": 2,
            "linecolor": "white",
            "showbackground": true,
            "ticks": "",
            "zerolinecolor": "white"
           }
          },
          "shapedefaults": {
           "line": {
            "color": "#2a3f5f"
           }
          },
          "ternary": {
           "aaxis": {
            "gridcolor": "white",
            "linecolor": "white",
            "ticks": ""
           },
           "baxis": {
            "gridcolor": "white",
            "linecolor": "white",
            "ticks": ""
           },
           "bgcolor": "#E5ECF6",
           "caxis": {
            "gridcolor": "white",
            "linecolor": "white",
            "ticks": ""
           }
          },
          "title": {
           "x": 0.05
          },
          "xaxis": {
           "automargin": true,
           "gridcolor": "white",
           "linecolor": "white",
           "ticks": "",
           "title": {
            "standoff": 15
           },
           "zerolinecolor": "white",
           "zerolinewidth": 2
          },
          "yaxis": {
           "automargin": true,
           "gridcolor": "white",
           "linecolor": "white",
           "ticks": "",
           "title": {
            "standoff": 15
           },
           "zerolinecolor": "white",
           "zerolinewidth": 2
          }
         }
        },
        "xaxis": {
         "anchor": "y",
         "domain": [
          0,
          1
         ],
         "title": {
          "text": "Nombre"
         }
        },
        "yaxis": {
         "anchor": "x",
         "domain": [
          0,
          1
         ],
         "title": {
          "text": "Ataque"
         }
        }
       }
      }
     },
     "metadata": {},
     "output_type": "display_data"
    }
   ],
   "source": [
    "fig2 = px.bar(df, x= \"Nombre\", y = \"Ataque\")\n",
    "\n",
    "fig2.show()"
   ]
  }
 ],
 "metadata": {
  "kernelspec": {
   "display_name": "Python 3",
   "language": "python",
   "name": "python3"
  },
  "language_info": {
   "codemirror_mode": {
    "name": "ipython",
    "version": 3
   },
   "file_extension": ".py",
   "mimetype": "text/x-python",
   "name": "python",
   "nbconvert_exporter": "python",
   "pygments_lexer": "ipython3",
   "version": "3.11.9"
  }
 },
 "nbformat": 4,
 "nbformat_minor": 2
}
